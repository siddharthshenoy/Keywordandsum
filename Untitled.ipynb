{
 "cells": [
  {
   "cell_type": "code",
   "execution_count": 1,
   "metadata": {},
   "outputs": [],
   "source": [
    "import pandas as pd"
   ]
  },
  {
   "cell_type": "code",
   "execution_count": 5,
   "metadata": {},
   "outputs": [
    {
     "data": {
      "text/plain": [
       "b'./Animal Rescue incidents attended by LFB from Jan 2009.csv'"
      ]
     },
     "execution_count": 5,
     "metadata": {},
     "output_type": "execute_result"
    }
   ],
   "source": [
    "asar = \"./Animal Rescue incidents attended by LFB from Jan 2009.csv\"\n",
    "asar.encode('utf-8').strip()"
   ]
  },
  {
   "cell_type": "code",
   "execution_count": 8,
   "metadata": {},
   "outputs": [],
   "source": [
    "record = pd.read_csv(asar, encoding= 'unicode_escape')"
   ]
  },
  {
   "cell_type": "code",
   "execution_count": 9,
   "metadata": {},
   "outputs": [
    {
     "name": "stdout",
     "output_type": "stream",
     "text": [
      "['Animal assistance involving livestock - Other action'\n",
      " 'Animal rescue from below ground - Domestic pet'\n",
      " 'Animal rescue from water - Farm animal'\n",
      " 'Animal rescue from water - Domestic pet'\n",
      " 'Wild animal rescue from height'\n",
      " 'Animal rescue from height - Domestic pet'\n",
      " 'Animal rescue from water - Bird' 'Animal rescue from height - Bird'\n",
      " 'Wild animal rescue from water or mud'\n",
      " 'Animal assistance - Lift heavy livestock animal'\n",
      " 'Wild animal rescue from below ground'\n",
      " 'Animal rescue from below ground - Bird'\n",
      " 'Animal rescue from height - Farm animal'\n",
      " 'Animal rescue from below ground - Farm animal'\n",
      " 'Assist trapped domestic animal' 'Animal harm involving domestic animal'\n",
      " 'Animal assistance involving wild animal - Other action'\n",
      " 'Animal assistance involving domestic animal - Other action'\n",
      " 'Animal harm involving wild animal' 'Assist  trapped livestock animal'\n",
      " 'Assist trapped wild animal' 'Animal assistance - Lift heavy wild animal'\n",
      " 'Animal assistance - Lift heavy domestic animal'\n",
      " 'Animal harm involving livestock']\n"
     ]
    }
   ],
   "source": [
    "print(record.SpecialServiceType.unique())"
   ]
  },
  {
   "cell_type": "code",
   "execution_count": null,
   "metadata": {},
   "outputs": [],
   "source": []
  }
 ],
 "metadata": {
  "kernelspec": {
   "display_name": "Python 3",
   "language": "python",
   "name": "python3"
  },
  "language_info": {
   "codemirror_mode": {
    "name": "ipython",
    "version": 3
   },
   "file_extension": ".py",
   "mimetype": "text/x-python",
   "name": "python",
   "nbconvert_exporter": "python",
   "pygments_lexer": "ipython3",
   "version": "3.7.6"
  }
 },
 "nbformat": 4,
 "nbformat_minor": 4
}
