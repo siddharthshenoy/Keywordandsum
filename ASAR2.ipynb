{
  "nbformat": 4,
  "nbformat_minor": 0,
  "metadata": {
    "kernelspec": {
      "display_name": "Python 3",
      "language": "python",
      "name": "python3"
    },
    "language_info": {
      "codemirror_mode": {
        "name": "ipython",
        "version": 3
      },
      "file_extension": ".py",
      "mimetype": "text/x-python",
      "name": "python",
      "nbconvert_exporter": "python",
      "pygments_lexer": "ipython3",
      "version": "3.7.6"
    },
    "colab": {
      "name": "ASAR.ipynb",
      "provenance": []
    }
  },
  "cells": [
    {
      "cell_type": "code",
      "metadata": {
        "id": "kQCpTEb4ok6c"
      },
      "source": [
        "import pandas as pd"
      ],
      "execution_count": 20,
      "outputs": []
    },
    {
      "cell_type": "code",
      "metadata": {
        "colab": {
          "base_uri": "https://localhost:8080/"
        },
        "id": "3S9lAVbmok6i",
        "outputId": "dd0d6d57-92bb-4d1d-aa1f-3d042b09dd2b"
      },
      "source": [
        "asar = \"./Animal Rescue incidents attended by LFB from Jan 2009.csv\"\n",
        "asar.encode('utf-8').strip()"
      ],
      "execution_count": 21,
      "outputs": [
        {
          "output_type": "execute_result",
          "data": {
            "text/plain": [
              "b'./Animal Rescue incidents attended by LFB from Jan 2009.csv'"
            ]
          },
          "metadata": {
            "tags": []
          },
          "execution_count": 21
        }
      ]
    },
    {
      "cell_type": "code",
      "metadata": {
        "id": "Plqm28lsok6m"
      },
      "source": [
        "record = pd.read_csv(asar, encoding= 'unicode_escape')"
      ],
      "execution_count": 22,
      "outputs": []
    },
    {
      "cell_type": "code",
      "metadata": {
        "colab": {
          "base_uri": "https://localhost:8080/"
        },
        "id": "Xm6HKYFQok6o",
        "outputId": "694ed358-fe67-46b7-c6bb-417f63f2443f"
      },
      "source": [
        "print(record.SpecialServiceType.unique())"
      ],
      "execution_count": 24,
      "outputs": [
        {
          "output_type": "stream",
          "text": [
            "['Animal assistance involving livestock - Other action'\n",
            " 'Animal rescue from below ground - Domestic pet'\n",
            " 'Animal rescue from water - Farm animal'\n",
            " 'Animal rescue from water - Domestic pet'\n",
            " 'Wild animal rescue from height'\n",
            " 'Animal rescue from height - Domestic pet'\n",
            " 'Animal rescue from water - Bird' 'Animal rescue from height - Bird'\n",
            " 'Wild animal rescue from water or mud'\n",
            " 'Animal assistance - Lift heavy livestock animal'\n",
            " 'Wild animal rescue from below ground'\n",
            " 'Animal rescue from below ground - Bird'\n",
            " 'Animal rescue from height - Farm animal'\n",
            " 'Animal rescue from below ground - Farm animal'\n",
            " 'Assist trapped domestic animal' 'Animal harm involving domestic animal'\n",
            " 'Animal assistance involving wild animal - Other action'\n",
            " 'Animal assistance involving domestic animal - Other action'\n",
            " 'Animal harm involving wild animal' 'Assist  trapped livestock animal'\n",
            " 'Assist trapped wild animal' 'Animal assistance - Lift heavy wild animal'\n",
            " 'Animal assistance - Lift heavy domestic animal'\n",
            " 'Animal harm involving livestock']\n"
          ],
          "name": "stdout"
        }
      ]
    },
    {
      "cell_type": "code",
      "metadata": {
        "colab": {
          "base_uri": "https://localhost:8080/"
        },
        "id": "1tLOfU5Eok6q",
        "outputId": "872d44c2-d31e-409b-b773-485ac9848e1d"
      },
      "source": [
        "import numpy as np\n",
        "import pandas as pd\n",
        "seed = 69 # set random seed for whole document\n",
        "\n",
        "# Graph plotting\n",
        "import matplotlib.pyplot as plt\n",
        "import seaborn as sns\n",
        "\n",
        "# Displaying dataframes\n",
        "from IPython.display import display\n",
        "\n",
        "# Natural Language Processing Thingamajibs\n",
        "import re\n",
        "import string\n",
        "import nltk\n",
        "nltk.download('stopwords')\n",
        "from nltk.corpus import stopwords\n",
        "from gensim.models import Word2Vec, word2vec\n",
        "from sklearn.feature_extraction.text import TfidfVectorizer\n",
        "from sklearn.feature_selection import chi2\n",
        "import gensim\n",
        "\n",
        "# Classifiers\n",
        "from sklearn.naive_bayes import GaussianNB, BernoulliNB, MultinomialNB\n",
        "from sklearn.linear_model import LogisticRegression\n",
        "from sklearn.neighbors import KNeighborsClassifier\n",
        "from sklearn.tree import DecisionTreeClassifier\n",
        "from sklearn.ensemble import RandomForestClassifier\n",
        "from sklearn.svm import LinearSVC, SVC\n",
        "\n",
        "# Metrics to score classifiers\n",
        "from sklearn.metrics import confusion_matrix, classification_report\n",
        "from sklearn.metrics import accuracy_score, precision_score, recall_score, f1_score, auc, roc_curve, log_loss\n",
        "\n",
        "# Data splitting, CV\n",
        "from sklearn.model_selection import train_test_split\n",
        "from sklearn.model_selection import cross_val_score, KFold, StratifiedKFold\n",
        "\n",
        "# Lifesaver\n",
        "import pickle"
      ],
      "execution_count": 25,
      "outputs": [
        {
          "output_type": "stream",
          "text": [
            "[nltk_data] Downloading package stopwords to /root/nltk_data...\n",
            "[nltk_data]   Package stopwords is already up-to-date!\n"
          ],
          "name": "stdout"
        }
      ]
    },
    {
      "cell_type": "code",
      "metadata": {
        "id": "COt7wUtTok6s"
      },
      "source": [
        "asar = \"./Animal Rescue incidents attended by LFB from Jan 2009.csv\"\n",
        "df = pd.read_csv(asar, encoding= 'unicode_escape')"
      ],
      "execution_count": 26,
      "outputs": []
    },
    {
      "cell_type": "code",
      "metadata": {
        "id": "GRPvFkz6ok6t"
      },
      "source": [
        "df.rename(columns={'IncidentNumber':'S_NO',\n",
        "                  'DateTimeOfCall':'DATE_TIME',\n",
        "                   'CalYear':'YEAR',\n",
        "                   'FinYear':'FYEAR',\n",
        "                   'TypeOfIncident':'TYPE',\n",
        "                   'PumpCount':'PUMP_COUNT',\n",
        "                   'PumpHoursTotal':'PUMP_TOTAL',\n",
        "                   'HourlyNotionalCost(｣)':'HOUR_COST',\n",
        "                   'IncidentNotionalCost(｣)':'INCI_COST',\n",
        "                   'FinalDescription':'MAIN_DESCRIPTION',\n",
        "                   'AnimalGroupParent':'ANIMAL_TYPE',\n",
        "                   'OriginofCall':'ORIGIN',\n",
        "                   'PropertyType':'PROPERTY',\n",
        "                   'PropertyCategory':'PROPERTYCATEGORY',\n",
        "                   'SpecialServiceTypeCategory':'SERVICE_CATEGORY',\n",
        "                   'SpecialServiceType':'SERVICE_TYPE',\n",
        "                   'WardCode':'WARD_CODE',\n",
        "                   'Ward':'WARD',\n",
        "                   'BoroughCode':'BOROUGHCODE',\n",
        "                   'Borough':'BOROUGH',\n",
        "                   'StnGroundName':'GROUND_NAME',\n",
        "                   'UPRN':'UPRN',\n",
        "                   'Street':'Street',\n",
        "                   'USRN':'USRN',\n",
        "                   'PostcodeDistrict':'POST_CODE',\n",
        "                   'Easting_m':'EASTING',\n",
        "                   'Northing_m':'NORTHING',\n",
        "                   'Easting_rounded':'EASTING_R',\n",
        "                   'Northing_rounded':'NORTHING_R',\n",
        "                   'Latitude':'LAT',\n",
        "                   'Longitude':'LONGI'\n",
        "                   \n",
        "                  },inplace=True)"
      ],
      "execution_count": 27,
      "outputs": []
    },
    {
      "cell_type": "code",
      "metadata": {
        "id": "ew5Gg5ndok6v"
      },
      "source": [
        "#since we wanna do complaint classification we just do the row with complaints/description in them"
      ],
      "execution_count": null,
      "outputs": []
    },
    {
      "cell_type": "code",
      "metadata": {
        "id": "ZVANCz6lok6w"
      },
      "source": [
        "df.dropna(axis=0, subset=['MAIN_DESCRIPTION'], \n",
        "          inplace=True)"
      ],
      "execution_count": 28,
      "outputs": []
    },
    {
      "cell_type": "code",
      "metadata": {
        "id": "K8x0JiKBok6w"
      },
      "source": [
        "#setting up dataframe for multiclass classification"
      ],
      "execution_count": null,
      "outputs": []
    },
    {
      "cell_type": "code",
      "metadata": {
        "id": "ayBIwnbBok6x"
      },
      "source": [
        "# Subsetting dataframe into columns useful for our text multi-classification problem\n",
        "df_product_and_complaint = df[['SERVICE_TYPE', 'MAIN_DESCRIPTION']]\n",
        "\n",
        "\n"
      ],
      "execution_count": 29,
      "outputs": []
    },
    {
      "cell_type": "code",
      "metadata": {
        "id": "tUnlUpUBok6y"
      },
      "source": [
        "## Pickling our subsetted dataframe\n",
        "#with open('df_product_and_complaint.pickle', 'wb') as to_write:\n",
        "#   pickle.dump(df_product_and_complaint, to_write)"
      ],
      "execution_count": null,
      "outputs": []
    },
    {
      "cell_type": "code",
      "metadata": {
        "id": "3mMZofTPok6z",
        "colab": {
          "base_uri": "https://localhost:8080/",
          "height": 209
        },
        "outputId": "9cc64b7e-d982-49c6-fb4d-459f807fff28"
      },
      "source": [
        "# Loading our pickled subsetted dataframe\n",
        "with open('df_product_and_complaint.pickle', 'rb') as to_read:\n",
        "    df_product_and_complaint = pickle.load(to_read)"
      ],
      "execution_count": 30,
      "outputs": [
        {
          "output_type": "error",
          "ename": "FileNotFoundError",
          "evalue": "ignored",
          "traceback": [
            "\u001b[0;31m---------------------------------------------------------------------------\u001b[0m",
            "\u001b[0;31mFileNotFoundError\u001b[0m                         Traceback (most recent call last)",
            "\u001b[0;32m<ipython-input-30-ec15e1e2cb46>\u001b[0m in \u001b[0;36m<module>\u001b[0;34m()\u001b[0m\n\u001b[1;32m      1\u001b[0m \u001b[0;31m# Loading our pickled subsetted dataframe\u001b[0m\u001b[0;34m\u001b[0m\u001b[0;34m\u001b[0m\u001b[0;34m\u001b[0m\u001b[0m\n\u001b[0;32m----> 2\u001b[0;31m \u001b[0;32mwith\u001b[0m \u001b[0mopen\u001b[0m\u001b[0;34m(\u001b[0m\u001b[0;34m'df_product_and_complaint.pickle'\u001b[0m\u001b[0;34m,\u001b[0m \u001b[0;34m'rb'\u001b[0m\u001b[0;34m)\u001b[0m \u001b[0;32mas\u001b[0m \u001b[0mto_read\u001b[0m\u001b[0;34m:\u001b[0m\u001b[0;34m\u001b[0m\u001b[0;34m\u001b[0m\u001b[0m\n\u001b[0m\u001b[1;32m      3\u001b[0m     \u001b[0mdf_product_and_complaint\u001b[0m \u001b[0;34m=\u001b[0m \u001b[0mpickle\u001b[0m\u001b[0;34m.\u001b[0m\u001b[0mload\u001b[0m\u001b[0;34m(\u001b[0m\u001b[0mto_read\u001b[0m\u001b[0;34m)\u001b[0m\u001b[0;34m\u001b[0m\u001b[0;34m\u001b[0m\u001b[0m\n",
            "\u001b[0;31mFileNotFoundError\u001b[0m: [Errno 2] No such file or directory: 'df_product_and_complaint.pickle'"
          ]
        }
      ]
    },
    {
      "cell_type": "code",
      "metadata": {
        "id": "QHJzkxX6ok6z",
        "colab": {
          "base_uri": "https://localhost:8080/"
        },
        "outputId": "ef116287-db3c-4da5-b40d-4ebc97e53e24"
      },
      "source": [
        "df_product_and_complaint.info()\n",
        "#no null values nice"
      ],
      "execution_count": 31,
      "outputs": [
        {
          "output_type": "stream",
          "text": [
            "<class 'pandas.core.frame.DataFrame'>\n",
            "Int64Index: 7307 entries, 0 to 7311\n",
            "Data columns (total 2 columns):\n",
            " #   Column            Non-Null Count  Dtype \n",
            "---  ------            --------------  ----- \n",
            " 0   SERVICE_TYPE      7307 non-null   object\n",
            " 1   MAIN_DESCRIPTION  7307 non-null   object\n",
            "dtypes: object(2)\n",
            "memory usage: 171.3+ KB\n"
          ],
          "name": "stdout"
        }
      ]
    },
    {
      "cell_type": "code",
      "metadata": {
        "id": "yff_Up-aok60",
        "colab": {
          "base_uri": "https://localhost:8080/",
          "height": 206
        },
        "outputId": "9d3242c2-af15-4506-dcf4-36d9cb850a8c"
      },
      "source": [
        "df_product_and_complaint.head(5)"
      ],
      "execution_count": 32,
      "outputs": [
        {
          "output_type": "execute_result",
          "data": {
            "text/html": [
              "<div>\n",
              "<style scoped>\n",
              "    .dataframe tbody tr th:only-of-type {\n",
              "        vertical-align: middle;\n",
              "    }\n",
              "\n",
              "    .dataframe tbody tr th {\n",
              "        vertical-align: top;\n",
              "    }\n",
              "\n",
              "    .dataframe thead th {\n",
              "        text-align: right;\n",
              "    }\n",
              "</style>\n",
              "<table border=\"1\" class=\"dataframe\">\n",
              "  <thead>\n",
              "    <tr style=\"text-align: right;\">\n",
              "      <th></th>\n",
              "      <th>SERVICE_TYPE</th>\n",
              "      <th>MAIN_DESCRIPTION</th>\n",
              "    </tr>\n",
              "  </thead>\n",
              "  <tbody>\n",
              "    <tr>\n",
              "      <th>0</th>\n",
              "      <td>Animal assistance involving livestock - Other ...</td>\n",
              "      <td>DOG WITH JAW TRAPPED IN MAGAZINE RACK,B15</td>\n",
              "    </tr>\n",
              "    <tr>\n",
              "      <th>1</th>\n",
              "      <td>Animal assistance involving livestock - Other ...</td>\n",
              "      <td>ASSIST RSPCA WITH FOX TRAPPED,B15</td>\n",
              "    </tr>\n",
              "    <tr>\n",
              "      <th>2</th>\n",
              "      <td>Animal rescue from below ground - Domestic pet</td>\n",
              "      <td>DOG CAUGHT IN DRAIN,B15</td>\n",
              "    </tr>\n",
              "    <tr>\n",
              "      <th>3</th>\n",
              "      <td>Animal rescue from water - Farm animal</td>\n",
              "      <td>HORSE TRAPPED IN LAKE,J17</td>\n",
              "    </tr>\n",
              "    <tr>\n",
              "      <th>4</th>\n",
              "      <td>Animal assistance involving livestock - Other ...</td>\n",
              "      <td>RABBIT TRAPPED UNDER SOFA,B15</td>\n",
              "    </tr>\n",
              "  </tbody>\n",
              "</table>\n",
              "</div>"
            ],
            "text/plain": [
              "                                        SERVICE_TYPE                           MAIN_DESCRIPTION\n",
              "0  Animal assistance involving livestock - Other ...  DOG WITH JAW TRAPPED IN MAGAZINE RACK,B15\n",
              "1  Animal assistance involving livestock - Other ...          ASSIST RSPCA WITH FOX TRAPPED,B15\n",
              "2     Animal rescue from below ground - Domestic pet                    DOG CAUGHT IN DRAIN,B15\n",
              "3             Animal rescue from water - Farm animal                  HORSE TRAPPED IN LAKE,J17\n",
              "4  Animal assistance involving livestock - Other ...              RABBIT TRAPPED UNDER SOFA,B15"
            ]
          },
          "metadata": {
            "tags": []
          },
          "execution_count": 32
        }
      ]
    },
    {
      "cell_type": "code",
      "metadata": {
        "id": "rCXRvXobok60",
        "colab": {
          "base_uri": "https://localhost:8080/"
        },
        "outputId": "6def214b-6966-4650-bfa2-f79a3739e0a1"
      },
      "source": [
        "df_product_and_complaint.SERVICE_TYPE.value_counts()"
      ],
      "execution_count": 33,
      "outputs": [
        {
          "output_type": "execute_result",
          "data": {
            "text/plain": [
              "Animal rescue from height - Domestic pet                      1645\n",
              "Assist trapped domestic animal                                1503\n",
              "Animal rescue from height - Bird                               901\n",
              "Animal assistance involving livestock - Other action           633\n",
              "Assist trapped wild animal                                     593\n",
              "Animal rescue from below ground - Domestic pet                 592\n",
              "Animal assistance involving domestic animal - Other action     416\n",
              "Animal rescue from water - Domestic pet                        234\n",
              "Animal assistance involving wild animal - Other action         136\n",
              "Wild animal rescue from height                                  86\n",
              "Animal harm involving domestic animal                           80\n",
              "Wild animal rescue from below ground                            73\n",
              "Animal rescue from below ground - Bird                          68\n",
              "Animal assistance - Lift heavy livestock animal                 62\n",
              "Animal rescue from water - Farm animal                          61\n",
              "Animal rescue from water - Bird                                 53\n",
              "Assist  trapped livestock animal                                51\n",
              "Wild animal rescue from water or mud                            41\n",
              "Animal harm involving wild animal                               34\n",
              "Animal assistance - Lift heavy domestic animal                  22\n",
              "Animal rescue from below ground - Farm animal                   13\n",
              "Animal assistance - Lift heavy wild animal                       4\n",
              "Animal harm involving livestock                                  3\n",
              "Animal rescue from height - Farm animal                          3\n",
              "Name: SERVICE_TYPE, dtype: int64"
            ]
          },
          "metadata": {
            "tags": []
          },
          "execution_count": 33
        }
      ]
    },
    {
      "cell_type": "markdown",
      "metadata": {
        "id": "BC9YTOpZok61"
      },
      "source": [
        "# Label encoding"
      ]
    },
    {
      "cell_type": "code",
      "metadata": {
        "id": "-oRF7wsYok62",
        "colab": {
          "base_uri": "https://localhost:8080/"
        },
        "outputId": "656ca250-4aaa-4a70-b6f8-842b35ef8bd9"
      },
      "source": [
        "# Applying encoding to the PRODUCT column\n",
        "df_product_and_complaint['S_ID'] = df_product_and_complaint['SERVICE_TYPE'].factorize()[0]\n",
        "#factorize[0] arranges the index of each encoded number accordingly to the \n",
        "# index of your categorical variables in the service_type column\n",
        "\n",
        "# Creates a dataframe of the PRODUCT to their respective PRODUCT_ID\n",
        "category_id_df = df_product_and_complaint[['SERVICE_TYPE', 'S_ID']].drop_duplicates()\n",
        "\n",
        "# Dictionaries for future use. Creating our cheatsheets for what each encoded label represents.\n",
        "category_to_id = dict(category_id_df.values) # Creates a service_type: S_ID key-value pair\n",
        "id_to_category = dict(category_id_df[['S_ID', 'SERVICE_TYPE']].values)  # Creates a S_ID: SERVICE_TYPE key-value pair"
      ],
      "execution_count": 34,
      "outputs": [
        {
          "output_type": "stream",
          "text": [
            "/usr/local/lib/python3.7/dist-packages/ipykernel_launcher.py:2: SettingWithCopyWarning: \n",
            "A value is trying to be set on a copy of a slice from a DataFrame.\n",
            "Try using .loc[row_indexer,col_indexer] = value instead\n",
            "\n",
            "See the caveats in the documentation: https://pandas.pydata.org/pandas-docs/stable/user_guide/indexing.html#returning-a-view-versus-a-copy\n",
            "  \n"
          ],
          "name": "stderr"
        }
      ]
    },
    {
      "cell_type": "code",
      "metadata": {
        "id": "18eQD-Qaok62",
        "colab": {
          "base_uri": "https://localhost:8080/",
          "height": 363
        },
        "outputId": "ba655df6-99d5-4a3e-bd14-b2f92ae05a71"
      },
      "source": [
        "df_product_and_complaint.head(10)"
      ],
      "execution_count": 35,
      "outputs": [
        {
          "output_type": "execute_result",
          "data": {
            "text/html": [
              "<div>\n",
              "<style scoped>\n",
              "    .dataframe tbody tr th:only-of-type {\n",
              "        vertical-align: middle;\n",
              "    }\n",
              "\n",
              "    .dataframe tbody tr th {\n",
              "        vertical-align: top;\n",
              "    }\n",
              "\n",
              "    .dataframe thead th {\n",
              "        text-align: right;\n",
              "    }\n",
              "</style>\n",
              "<table border=\"1\" class=\"dataframe\">\n",
              "  <thead>\n",
              "    <tr style=\"text-align: right;\">\n",
              "      <th></th>\n",
              "      <th>SERVICE_TYPE</th>\n",
              "      <th>MAIN_DESCRIPTION</th>\n",
              "      <th>S_ID</th>\n",
              "    </tr>\n",
              "  </thead>\n",
              "  <tbody>\n",
              "    <tr>\n",
              "      <th>0</th>\n",
              "      <td>Animal assistance involving livestock - Other ...</td>\n",
              "      <td>DOG WITH JAW TRAPPED IN MAGAZINE RACK,B15</td>\n",
              "      <td>0</td>\n",
              "    </tr>\n",
              "    <tr>\n",
              "      <th>1</th>\n",
              "      <td>Animal assistance involving livestock - Other ...</td>\n",
              "      <td>ASSIST RSPCA WITH FOX TRAPPED,B15</td>\n",
              "      <td>0</td>\n",
              "    </tr>\n",
              "    <tr>\n",
              "      <th>2</th>\n",
              "      <td>Animal rescue from below ground - Domestic pet</td>\n",
              "      <td>DOG CAUGHT IN DRAIN,B15</td>\n",
              "      <td>1</td>\n",
              "    </tr>\n",
              "    <tr>\n",
              "      <th>3</th>\n",
              "      <td>Animal rescue from water - Farm animal</td>\n",
              "      <td>HORSE TRAPPED IN LAKE,J17</td>\n",
              "      <td>2</td>\n",
              "    </tr>\n",
              "    <tr>\n",
              "      <th>4</th>\n",
              "      <td>Animal assistance involving livestock - Other ...</td>\n",
              "      <td>RABBIT TRAPPED UNDER SOFA,B15</td>\n",
              "      <td>0</td>\n",
              "    </tr>\n",
              "    <tr>\n",
              "      <th>5</th>\n",
              "      <td>Animal assistance involving livestock - Other ...</td>\n",
              "      <td>ANIMAL TRAPPED BEHIND FIREPLACE,B15</td>\n",
              "      <td>0</td>\n",
              "    </tr>\n",
              "    <tr>\n",
              "      <th>6</th>\n",
              "      <td>Animal assistance involving livestock - Other ...</td>\n",
              "      <td>DOG WITH HEAD TRAPPED IN RAILINGS,B15</td>\n",
              "      <td>0</td>\n",
              "    </tr>\n",
              "    <tr>\n",
              "      <th>7</th>\n",
              "      <td>Animal rescue from water - Domestic pet</td>\n",
              "      <td>LABRADOR FALLEN THROUGH THE ICE,J15</td>\n",
              "      <td>3</td>\n",
              "    </tr>\n",
              "    <tr>\n",
              "      <th>8</th>\n",
              "      <td>Wild animal rescue from height</td>\n",
              "      <td>SQUIRREL TRAPPED ON WINDOWSILL,B15</td>\n",
              "      <td>4</td>\n",
              "    </tr>\n",
              "    <tr>\n",
              "      <th>9</th>\n",
              "      <td>Animal rescue from water - Domestic pet</td>\n",
              "      <td>DOG STUCK IN MUD, J15</td>\n",
              "      <td>3</td>\n",
              "    </tr>\n",
              "  </tbody>\n",
              "</table>\n",
              "</div>"
            ],
            "text/plain": [
              "                                        SERVICE_TYPE  ... S_ID\n",
              "0  Animal assistance involving livestock - Other ...  ...    0\n",
              "1  Animal assistance involving livestock - Other ...  ...    0\n",
              "2     Animal rescue from below ground - Domestic pet  ...    1\n",
              "3             Animal rescue from water - Farm animal  ...    2\n",
              "4  Animal assistance involving livestock - Other ...  ...    0\n",
              "5  Animal assistance involving livestock - Other ...  ...    0\n",
              "6  Animal assistance involving livestock - Other ...  ...    0\n",
              "7            Animal rescue from water - Domestic pet  ...    3\n",
              "8                     Wild animal rescue from height  ...    4\n",
              "9            Animal rescue from water - Domestic pet  ...    3\n",
              "\n",
              "[10 rows x 3 columns]"
            ]
          },
          "metadata": {
            "tags": []
          },
          "execution_count": 35
        }
      ]
    },
    {
      "cell_type": "code",
      "metadata": {
        "id": "T_sGPlypok62"
      },
      "source": [
        "#Now that we have encoded our columns, time to move on to the next step -- cleaning the fricken text data\n",
        "#But save our dataframe here so we don't run into memory issues later and we can start from a new starting point "
      ],
      "execution_count": 36,
      "outputs": []
    },
    {
      "cell_type": "code",
      "metadata": {
        "id": "hqgSmA8qok62"
      },
      "source": [
        "## Pickling reduced dataframe\n",
        "#with open('df_product_and_complaint.pickle', 'wb') as to_write:\n",
        "#    pickle.dump(df_product_and_complaint, to_write)"
      ],
      "execution_count": null,
      "outputs": []
    },
    {
      "cell_type": "code",
      "metadata": {
        "id": "K2HKNctnok63"
      },
      "source": [
        "# Loading Pickled DataFrame\n",
        "with open('df_product_and_complaint.pickle', 'rb') as to_read:\n",
        "    df_product_and_complaint = pickle.load(to_read)"
      ],
      "execution_count": null,
      "outputs": []
    },
    {
      "cell_type": "code",
      "metadata": {
        "scrolled": true,
        "id": "-OIQWtK4ok63",
        "colab": {
          "base_uri": "https://localhost:8080/"
        },
        "outputId": "7f549648-949c-444c-fbb9-564dfebca740"
      },
      "source": [
        "# Reviewing our Loaded Dataframe\n",
        "print(df_product_and_complaint.info())\n",
        "print('--------------------------------------------------------------------------------------')\n",
        "print(df_product_and_complaint.head().to_string())"
      ],
      "execution_count": 37,
      "outputs": [
        {
          "output_type": "stream",
          "text": [
            "<class 'pandas.core.frame.DataFrame'>\n",
            "Int64Index: 7307 entries, 0 to 7311\n",
            "Data columns (total 3 columns):\n",
            " #   Column            Non-Null Count  Dtype \n",
            "---  ------            --------------  ----- \n",
            " 0   SERVICE_TYPE      7307 non-null   object\n",
            " 1   MAIN_DESCRIPTION  7307 non-null   object\n",
            " 2   S_ID              7307 non-null   int64 \n",
            "dtypes: int64(1), object(2)\n",
            "memory usage: 228.3+ KB\n",
            "None\n",
            "--------------------------------------------------------------------------------------\n",
            "                                           SERVICE_TYPE                           MAIN_DESCRIPTION  S_ID\n",
            "0  Animal assistance involving livestock - Other action  DOG WITH JAW TRAPPED IN MAGAZINE RACK,B15     0\n",
            "1  Animal assistance involving livestock - Other action          ASSIST RSPCA WITH FOX TRAPPED,B15     0\n",
            "2        Animal rescue from below ground - Domestic pet                    DOG CAUGHT IN DRAIN,B15     1\n",
            "3                Animal rescue from water - Farm animal                  HORSE TRAPPED IN LAKE,J17     2\n",
            "4  Animal assistance involving livestock - Other action              RABBIT TRAPPED UNDER SOFA,B15     0\n"
          ],
          "name": "stdout"
        }
      ]
    },
    {
      "cell_type": "markdown",
      "metadata": {
        "id": "6sMmXEojok64"
      },
      "source": [
        "# Text Pre-Processing"
      ]
    },
    {
      "cell_type": "code",
      "metadata": {
        "id": "Se7zKdgMok64",
        "colab": {
          "base_uri": "https://localhost:8080/"
        },
        "outputId": "925b9081-02c9-4609-b9e8-1585059a8cad"
      },
      "source": [
        "# Looking at a sample text\n",
        "sample_complaint = list(df_product_and_complaint.MAIN_DESCRIPTION[:5])[4]\n",
        "\n",
        "# Converting to a list for TfidfVectorizer to use\n",
        "list_sample_complaint = []\n",
        "list_sample_complaint.append(sample_complaint)\n",
        "list_sample_complaint"
      ],
      "execution_count": 38,
      "outputs": [
        {
          "output_type": "execute_result",
          "data": {
            "text/plain": [
              "['RABBIT TRAPPED UNDER SOFA,B15']"
            ]
          },
          "metadata": {
            "tags": []
          },
          "execution_count": 38
        }
      ]
    },
    {
      "cell_type": "code",
      "metadata": {
        "id": "N57nDzDsok65",
        "colab": {
          "base_uri": "https://localhost:8080/"
        },
        "outputId": "99bda565-1fdd-47d3-dac3-151406115ef3"
      },
      "source": [
        "# Observing what words are extracted from a TfidfVectorizer\n",
        "from sklearn.feature_extraction.text import TfidfVectorizer\n",
        "\n",
        "tf_idf3 = TfidfVectorizer(stop_words='english')\n",
        "check3 = tf_idf3.fit_transform(list_sample_complaint)\n",
        "\n",
        "print(tf_idf3.get_feature_names())"
      ],
      "execution_count": 39,
      "outputs": [
        {
          "output_type": "stream",
          "text": [
            "['b15', 'rabbit', 'sofa', 'trapped']\n"
          ],
          "name": "stdout"
        }
      ]
    },
    {
      "cell_type": "markdown",
      "metadata": {
        "id": "a1oJ71Heok65"
      },
      "source": [
        "# Model/classifier selection"
      ]
    },
    {
      "cell_type": "markdown",
      "metadata": {
        "id": "Js71WMiaok66"
      },
      "source": [
        "## train/startified/test splits"
      ]
    },
    {
      "cell_type": "code",
      "metadata": {
        "id": "87NwVPFjok67",
        "outputId": "cb4a8083-1ce1-4a6b-c29c-9897875a0b52"
      },
      "source": [
        " # Split the data into X and y data sets\n",
        "X, y = df_product_and_complaint.MAIN_DESCRIPTION, df_product_and_complaint.SERVICE_TYPE\n",
        "print('X shape:', X.shape, 'y shape:', y.shape)"
      ],
      "execution_count": null,
      "outputs": [
        {
          "output_type": "stream",
          "text": [
            "X shape: (7307,) y shape: (7307,)\n"
          ],
          "name": "stdout"
        }
      ]
    },
    {
      "cell_type": "code",
      "metadata": {
        "id": "gsQvrDv-ok68",
        "outputId": "0280c188-dc8e-4250-afaf-023111431134"
      },
      "source": [
        "# Split the data into X and y data sets\n",
        "X, y = df_product_and_complaint.MAIN_DESCRIPTION, df_product_and_complaint.SERVICE_TYPE\n",
        "print('X shape:', X.shape, 'y shape:', y.shape)\n",
        "from sklearn.model_selection import train_test_split\n",
        "\n",
        "X_train_val, X_test, y_train_val, y_test = train_test_split(X, y, \n",
        "                                                            test_size=0.2,   # 80% train/cv, 20% test\n",
        "                                                            stratify=y,\n",
        "                                                            random_state=seed)\n",
        "print('X_train', X_train_val.shape)\n",
        "print('y_train', y_train_val.shape)\n",
        "print('X_test', X_test.shape)\n",
        "print('y_test', y_test.shape)"
      ],
      "execution_count": null,
      "outputs": [
        {
          "output_type": "stream",
          "text": [
            "X shape: (7307,) y shape: (7307,)\n",
            "X_train (5845,)\n",
            "y_train (5845,)\n",
            "X_test (1462,)\n",
            "y_test (1462,)\n"
          ],
          "name": "stdout"
        }
      ]
    },
    {
      "cell_type": "code",
      "metadata": {
        "id": "KqK2npbvok69"
      },
      "source": [
        "# Performing Text Pre-Processing\n",
        "\n",
        "# Import tfidfVectorizer\n",
        "from sklearn.feature_extraction.text import TfidfVectorizer\n",
        "\n",
        "# Text Preprocessing\n",
        "# The text needs to be transformed to vectors so as the algorithms will be able make predictions. \n",
        "# In this case it will be used the Term Frequency – Inverse Document Frequency (TFIDF) weight \n",
        "# to evaluate how important A WORD is to A DOCUMENT in a COLLECTION OF DOCUMENTS.\n",
        "\n",
        "# tfidf1 = 1-gram only. \n",
        "tfidf1 = TfidfVectorizer(sublinear_tf=True, # set to true to scale the term frequency in logarithmic scale.\n",
        "                        min_df=5,\n",
        "                        stop_words='english')\n",
        "\n",
        "X_train_val_tfidf1 = tfidf1.fit_transform(X_train_val).toarray()\n",
        "X_test_tfidf1 = tfidf1.transform(X_test)\n",
        "\n",
        "# tfidf2 = unigram and bigram\n",
        "tfidf2 = TfidfVectorizer(sublinear_tf=True, # set to true to scale the term frequency in logarithmic scale.\n",
        "                        min_df=5, \n",
        "                        ngram_range=(1,2), # we consider unigrams and bigrams\n",
        "                        stop_words='english')\n",
        "X_train_val_tfidf2 = tfidf2.fit_transform(X_train_val).toarray()\n",
        "X_test_tfidf2 = tfidf2.transform(X_test)\n",
        "\n",
        "\n",
        "# # StratifiedKFold -> Split 5\n",
        "# ## We now want to do stratified kfold to preserve the proportion of the category imbalances \n",
        "# # (number is split evenly from all the classes)\n",
        "\n",
        "kf = StratifiedKFold(n_splits=5, shuffle=True, random_state=seed)"
      ],
      "execution_count": null,
      "outputs": []
    },
    {
      "cell_type": "markdown",
      "metadata": {
        "id": "PiG4ZLbaok6-"
      },
      "source": [
        "# Baseline Model - Train/Stratified CV with MultinomialNB()"
      ]
    },
    {
      "cell_type": "code",
      "metadata": {
        "id": "UVstJmnWok6-",
        "outputId": "f00064b7-c0b9-410a-dba0-937167c6d914"
      },
      "source": [
        "print('1-gram number of (rows, features):', X_train_val_tfidf1.shape)"
      ],
      "execution_count": null,
      "outputs": [
        {
          "output_type": "stream",
          "text": [
            "1-gram number of (rows, features): (5845, 428)\n"
          ],
          "name": "stdout"
        }
      ]
    },
    {
      "cell_type": "code",
      "metadata": {
        "id": "sRwDJR-eok6-"
      },
      "source": [
        "def metric_cv_stratified(model, X_train_val, y_train_val, n_splits, name):\n",
        "    \"\"\"\n",
        "    Accepts a Model Object, converted X_train_val and y_train_val, n_splits, name\n",
        "    and returns a dataframe with various cross-validated metric scores \n",
        "    over a stratified n_splits kfold for a multi-class classifier.\n",
        "    \"\"\"\n",
        "    # Start timer\n",
        "    import timeit\n",
        "    start = timeit.default_timer()\n",
        "    \n",
        "    ### Computations below\n",
        "    \n",
        "    # StratifiedKFold\n",
        "    ## We now want to do stratified kfold to preserve the proportion of the category imbalances \n",
        "    # (number is split evenly from all the classes)\n",
        "    from sklearn.model_selection import StratifiedKFold  # incase user forgest to import\n",
        "    kf = StratifiedKFold(n_splits=5, shuffle=True, random_state=seed)\n",
        "    \n",
        "    # Initializing Metrics\n",
        "    accuracy = 0.0\n",
        "    micro_f1 = 0.0\n",
        "    macro_precision = 0.0\n",
        "    macro_recall = 0.0\n",
        "    macro_f1 = 0.0\n",
        "    weighted_precision = 0.0\n",
        "    weighted_recall = 0.0\n",
        "    weighted_f1 = 0.0\n",
        "    roc_auc = 0.0    #Not considering this score in this case\n",
        "        \n",
        "    # Storing metrics\n",
        "    from sklearn.model_selection import cross_val_score  # incase user forgets to import\n",
        "    accuracy = np.mean(cross_val_score(model, X_train_val, y_train_val, cv=kf, scoring='accuracy'))\n",
        "    micro_f1 = np.mean(cross_val_score(model, X_train_val, y_train_val, cv=kf, scoring='f1_micro'))\n",
        "    macro_precision = np.mean(cross_val_score(model, X_train_val, y_train_val, cv=kf, scoring='precision_macro'))\n",
        "    macro_recall = np.mean(cross_val_score(model, X_train_val, y_train_val, cv=kf, scoring='recall_macro'))\n",
        "    macro_f1 = np.mean(cross_val_score(model, X_train_val, y_train_val, cv=kf, scoring='f1_macro'))\n",
        "    weighted_precision = np.mean(cross_val_score(model, X_train_val, y_train_val, cv=kf, scoring='precision_weighted'))\n",
        "    weighted_recall = np.mean(cross_val_score(model, X_train_val, y_train_val, cv=kf, scoring='recall_weighted'))\n",
        "    weighted_f1 = np.mean(cross_val_score(model, X_train_val, y_train_val, cv=kf, scoring='f1_weighted'))\n",
        "    \n",
        "    # Stop timer\n",
        "    stop = timeit.default_timer()\n",
        "    elapsed_time = stop - start\n",
        "    \n",
        "    return pd.DataFrame({'Model'    : [name],\n",
        "                         'Accuracy' : [accuracy],\n",
        "                         'Micro F1' : [micro_f1],\n",
        "                         'Macro Precision': [macro_precision],\n",
        "                         'Macro Recall'   : [macro_recall],\n",
        "                         'Macro F1score'  : [macro_f1],\n",
        "                         'Weighted Precision': [weighted_precision],\n",
        "                         'Weighted Recall'   : [weighted_recall],\n",
        "                         'Weighted F1'  : [weighted_f1],\n",
        "                         'Time taken': [elapsed_time]  # timetaken: to be used for comparison later\n",
        "                        })"
      ],
      "execution_count": null,
      "outputs": []
    },
    {
      "cell_type": "code",
      "metadata": {
        "id": "8YIPez97ok6_"
      },
      "source": [
        "# ## Data Science Story:\n",
        "# # Testing on MultinomialNB first\n",
        "\n",
        "# # Initialize Model Object\n",
        "# mnb = MultinomialNB()\n",
        "\n",
        "# results_cv_stratified_1gram = metric_cv_stratified(mnb, X_train_val_tfidf1, y_train_val, 5, 'MultinomialNB1')\n",
        "# results_cv_stratified_2gram = metric_cv_stratified(mnb, X_train_val_tfidf2, y_train_val, 5, 'MultinomialNB2')"
      ],
      "execution_count": null,
      "outputs": []
    },
    {
      "cell_type": "code",
      "metadata": {
        "id": "eyiYgVVsok7A",
        "outputId": "c005588a-eeaa-4544-c12c-48c85bd56586"
      },
      "source": [
        "results_cv_stratified_1gram"
      ],
      "execution_count": null,
      "outputs": [
        {
          "output_type": "error",
          "ename": "NameError",
          "evalue": "name 'results_cv_stratified_1gram' is not defined",
          "traceback": [
            "\u001b[1;31m---------------------------------------------------------------------------\u001b[0m",
            "\u001b[1;31mNameError\u001b[0m                                 Traceback (most recent call last)",
            "\u001b[1;32m<ipython-input-31-b0181ff75a1d>\u001b[0m in \u001b[0;36m<module>\u001b[1;34m\u001b[0m\n\u001b[1;32m----> 1\u001b[1;33m \u001b[0mresults_cv_stratified_1gram\u001b[0m\u001b[1;33m\u001b[0m\u001b[1;33m\u001b[0m\u001b[0m\n\u001b[0m",
            "\u001b[1;31mNameError\u001b[0m: name 'results_cv_stratified_1gram' is not defined"
          ]
        }
      ]
    },
    {
      "cell_type": "code",
      "metadata": {
        "id": "CzGbDxMgok7A"
      },
      "source": [
        "results_cv_stratified_2gram"
      ],
      "execution_count": null,
      "outputs": []
    },
    {
      "cell_type": "markdown",
      "metadata": {
        "id": "KFu1wUhnok7A"
      },
      "source": [
        "# 1-gram"
      ]
    },
    {
      "cell_type": "code",
      "metadata": {
        "id": "2Q0Jjuc_ok7A"
      },
      "source": [
        "# ## Testing on all Models using 1-gram \n",
        "\n",
        "# # Initialize Model Object\n",
        "# gnb = GaussianNB()\n",
        "# mnb = MultinomialNB()\n",
        "# logit = LogisticRegression(random_state=seed)\n",
        "# randomforest = RandomForestClassifier(n_estimators=100, max_depth=5, random_state=0)\n",
        "# linearsvc = LinearSVC()\n",
        "\n",
        "# ## We do NOT want these two. They take FOREVER to train AND predict\n",
        "# # knn = KNeighborsClassifier()  \n",
        "# # decisiontree = DecisionTreeClassifier(random_state=seed)\n",
        "\n",
        "# # to concat all models\n",
        "# results_cv_straitified_1gram = pd.concat([metric_cv_stratified(mnb, X_train_val_tfidf1, y_train_val, 5, 'MultinomialNB1'),\n",
        "#                                            metric_cv_stratified(gnb, X_train_val_tfidf1, y_train_val, 5, 'GaussianNB1'),\n",
        "#                                            metric_cv_stratified(logit, X_train_val_tfidf1, y_train_val, 5, 'LogisticRegression1'),\n",
        "#                                            metric_cv_stratified(randomforest, X_train_val_tfidf1, y_train_val, 5, 'RandomForest1'),\n",
        "#                                            metric_cv_stratified(linearsvc, X_train_val_tfidf1, y_train_val, 5, 'LinearSVC1')\n",
        "#                                           ], axis=0).reset_index()"
      ],
      "execution_count": null,
      "outputs": []
    },
    {
      "cell_type": "code",
      "metadata": {
        "id": "-B-W0bF9ok7B",
        "outputId": "ca41b039-5bcd-460c-f6d4-efbefc3dcaad"
      },
      "source": [
        "results_cv_straitified_1gram"
      ],
      "execution_count": null,
      "outputs": [
        {
          "output_type": "execute_result",
          "data": {
            "text/html": [
              "<div>\n",
              "<style scoped>\n",
              "    .dataframe tbody tr th:only-of-type {\n",
              "        vertical-align: middle;\n",
              "    }\n",
              "\n",
              "    .dataframe tbody tr th {\n",
              "        vertical-align: top;\n",
              "    }\n",
              "\n",
              "    .dataframe thead th {\n",
              "        text-align: right;\n",
              "    }\n",
              "</style>\n",
              "<table border=\"1\" class=\"dataframe\">\n",
              "  <thead>\n",
              "    <tr style=\"text-align: right;\">\n",
              "      <th></th>\n",
              "      <th>index</th>\n",
              "      <th>Model</th>\n",
              "      <th>Accuracy</th>\n",
              "      <th>Micro F1</th>\n",
              "      <th>Macro Precision</th>\n",
              "      <th>Macro Recall</th>\n",
              "      <th>Macro F1score</th>\n",
              "      <th>Weighted Precision</th>\n",
              "      <th>Weighted Recall</th>\n",
              "      <th>Weighted F1</th>\n",
              "      <th>Time taken</th>\n",
              "    </tr>\n",
              "  </thead>\n",
              "  <tbody>\n",
              "    <tr>\n",
              "      <th>0</th>\n",
              "      <td>0</td>\n",
              "      <td>MultinomialNB1</td>\n",
              "      <td>0.540120</td>\n",
              "      <td>0.540120</td>\n",
              "      <td>0.205778</td>\n",
              "      <td>0.183237</td>\n",
              "      <td>0.175208</td>\n",
              "      <td>0.458353</td>\n",
              "      <td>0.540120</td>\n",
              "      <td>0.474655</td>\n",
              "      <td>1.742476</td>\n",
              "    </tr>\n",
              "    <tr>\n",
              "      <th>1</th>\n",
              "      <td>0</td>\n",
              "      <td>GaussianNB1</td>\n",
              "      <td>0.116681</td>\n",
              "      <td>0.116681</td>\n",
              "      <td>0.141528</td>\n",
              "      <td>0.158912</td>\n",
              "      <td>0.103220</td>\n",
              "      <td>0.310021</td>\n",
              "      <td>0.116681</td>\n",
              "      <td>0.135088</td>\n",
              "      <td>9.085711</td>\n",
              "    </tr>\n",
              "    <tr>\n",
              "      <th>2</th>\n",
              "      <td>0</td>\n",
              "      <td>LogisticRegression1</td>\n",
              "      <td>0.568178</td>\n",
              "      <td>0.568178</td>\n",
              "      <td>0.332463</td>\n",
              "      <td>0.243235</td>\n",
              "      <td>0.246435</td>\n",
              "      <td>0.507137</td>\n",
              "      <td>0.568178</td>\n",
              "      <td>0.512977</td>\n",
              "      <td>77.167595</td>\n",
              "    </tr>\n",
              "    <tr>\n",
              "      <th>3</th>\n",
              "      <td>0</td>\n",
              "      <td>RandomForest1</td>\n",
              "      <td>0.445338</td>\n",
              "      <td>0.445338</td>\n",
              "      <td>0.121989</td>\n",
              "      <td>0.110248</td>\n",
              "      <td>0.089828</td>\n",
              "      <td>0.348790</td>\n",
              "      <td>0.445338</td>\n",
              "      <td>0.340372</td>\n",
              "      <td>21.212286</td>\n",
              "    </tr>\n",
              "    <tr>\n",
              "      <th>4</th>\n",
              "      <td>0</td>\n",
              "      <td>LinearSVC1</td>\n",
              "      <td>0.554833</td>\n",
              "      <td>0.554833</td>\n",
              "      <td>0.318929</td>\n",
              "      <td>0.274926</td>\n",
              "      <td>0.277788</td>\n",
              "      <td>0.504100</td>\n",
              "      <td>0.554833</td>\n",
              "      <td>0.512817</td>\n",
              "      <td>7.235629</td>\n",
              "    </tr>\n",
              "  </tbody>\n",
              "</table>\n",
              "</div>"
            ],
            "text/plain": [
              "   index                Model  Accuracy  Micro F1  Macro Precision  \\\n",
              "0      0       MultinomialNB1  0.540120  0.540120         0.205778   \n",
              "1      0          GaussianNB1  0.116681  0.116681         0.141528   \n",
              "2      0  LogisticRegression1  0.568178  0.568178         0.332463   \n",
              "3      0        RandomForest1  0.445338  0.445338         0.121989   \n",
              "4      0           LinearSVC1  0.554833  0.554833         0.318929   \n",
              "\n",
              "   Macro Recall  Macro F1score  Weighted Precision  Weighted Recall  \\\n",
              "0      0.183237       0.175208            0.458353         0.540120   \n",
              "1      0.158912       0.103220            0.310021         0.116681   \n",
              "2      0.243235       0.246435            0.507137         0.568178   \n",
              "3      0.110248       0.089828            0.348790         0.445338   \n",
              "4      0.274926       0.277788            0.504100         0.554833   \n",
              "\n",
              "   Weighted F1  Time taken  \n",
              "0     0.474655    1.742476  \n",
              "1     0.135088    9.085711  \n",
              "2     0.512977   77.167595  \n",
              "3     0.340372   21.212286  \n",
              "4     0.512817    7.235629  "
            ]
          },
          "metadata": {
            "tags": []
          },
          "execution_count": 36
        }
      ]
    },
    {
      "cell_type": "code",
      "metadata": {
        "id": "Y2OlDZCuok7C"
      },
      "source": [
        "#with open('results_cv_straitified_1gram_df.pickle', 'wb') as to_write:\n",
        "#     pickle.dump(results_cv_straitified_1gram, to_write)"
      ],
      "execution_count": null,
      "outputs": []
    },
    {
      "cell_type": "code",
      "metadata": {
        "id": "I88_UsnFok7C"
      },
      "source": [
        "with open('results_cv_straitified_1gram_df.pickle', 'rb') as to_read:\n",
        "    results_cv_straitified_1gram = pickle.load(to_read)"
      ],
      "execution_count": null,
      "outputs": []
    },
    {
      "cell_type": "code",
      "metadata": {
        "id": "tCJQVYGlok7C"
      },
      "source": [
        "## Testing on all Models using 2-gram \n",
        "\n",
        "# # Initialize Model Object\n",
        "# gnb = GaussianNB()\n",
        "# mnb = MultinomialNB()\n",
        "# logit = LogisticRegression(random_state=seed)\n",
        "# knn = KNeighborsClassifier()\n",
        "# decisiontree = DecisionTreeClassifier(random_state=seed)\n",
        "# randomforest = RandomForestClassifier(n_estimators=100, max_depth=5, random_state=0)\n",
        "# linearsvc = LinearSVC()\n",
        "\n",
        "# # # to concat all models\n",
        "# results_cv_straitified_2gram = pd.concat([metric_cv_stratified(mnb, X_train_val_tfidf2, y_train_val, 5, 'MultinomialNB2'),\n",
        "#                                            metric_cv_stratified(gnb, X_train_val_tfidf2, y_train_val, 5, 'GaussianNB2'),\n",
        "#                                            metric_cv_stratified(logit, X_train_val_tfidf2, y_train_val, 5, 'LogisticRegression2'),\n",
        "#                                            metric_cv_stratified(randomforest, X_train_val_tfidf2, y_train_val, 5, 'RandomForest2'),\n",
        "#                                            metric_cv_stratified(linearsvc, X_train_val_tfidf2, y_train_val, 5, 'LinearSVC2')\n",
        "#                                           ], axis=0).reset_index()"
      ],
      "execution_count": null,
      "outputs": []
    },
    {
      "cell_type": "code",
      "metadata": {
        "id": "3m6l7uX-ok7C",
        "outputId": "7bee4926-c959-4f18-df0f-1e3dbc6a979e"
      },
      "source": [
        "results_cv_straitified_2gram"
      ],
      "execution_count": null,
      "outputs": [
        {
          "output_type": "execute_result",
          "data": {
            "text/html": [
              "<div>\n",
              "<style scoped>\n",
              "    .dataframe tbody tr th:only-of-type {\n",
              "        vertical-align: middle;\n",
              "    }\n",
              "\n",
              "    .dataframe tbody tr th {\n",
              "        vertical-align: top;\n",
              "    }\n",
              "\n",
              "    .dataframe thead th {\n",
              "        text-align: right;\n",
              "    }\n",
              "</style>\n",
              "<table border=\"1\" class=\"dataframe\">\n",
              "  <thead>\n",
              "    <tr style=\"text-align: right;\">\n",
              "      <th></th>\n",
              "      <th>index</th>\n",
              "      <th>Model</th>\n",
              "      <th>Accuracy</th>\n",
              "      <th>Micro F1</th>\n",
              "      <th>Macro Precision</th>\n",
              "      <th>Macro Recall</th>\n",
              "      <th>Macro F1score</th>\n",
              "      <th>Weighted Precision</th>\n",
              "      <th>Weighted Recall</th>\n",
              "      <th>Weighted F1</th>\n",
              "      <th>Time taken</th>\n",
              "    </tr>\n",
              "  </thead>\n",
              "  <tbody>\n",
              "    <tr>\n",
              "      <th>0</th>\n",
              "      <td>0</td>\n",
              "      <td>MultinomialNB2</td>\n",
              "      <td>0.542173</td>\n",
              "      <td>0.542173</td>\n",
              "      <td>0.201976</td>\n",
              "      <td>0.182599</td>\n",
              "      <td>0.174268</td>\n",
              "      <td>0.459225</td>\n",
              "      <td>0.542173</td>\n",
              "      <td>0.475482</td>\n",
              "      <td>2.765015</td>\n",
              "    </tr>\n",
              "    <tr>\n",
              "      <th>1</th>\n",
              "      <td>0</td>\n",
              "      <td>GaussianNB2</td>\n",
              "      <td>0.211634</td>\n",
              "      <td>0.211634</td>\n",
              "      <td>0.165988</td>\n",
              "      <td>0.194780</td>\n",
              "      <td>0.148529</td>\n",
              "      <td>0.364699</td>\n",
              "      <td>0.211634</td>\n",
              "      <td>0.239130</td>\n",
              "      <td>19.162827</td>\n",
              "    </tr>\n",
              "    <tr>\n",
              "      <th>2</th>\n",
              "      <td>0</td>\n",
              "      <td>LogisticRegression2</td>\n",
              "      <td>0.563559</td>\n",
              "      <td>0.563559</td>\n",
              "      <td>0.324405</td>\n",
              "      <td>0.240764</td>\n",
              "      <td>0.242901</td>\n",
              "      <td>0.505363</td>\n",
              "      <td>0.563559</td>\n",
              "      <td>0.508475</td>\n",
              "      <td>135.082568</td>\n",
              "    </tr>\n",
              "    <tr>\n",
              "      <th>3</th>\n",
              "      <td>0</td>\n",
              "      <td>RandomForest2</td>\n",
              "      <td>0.437126</td>\n",
              "      <td>0.437126</td>\n",
              "      <td>0.090463</td>\n",
              "      <td>0.106400</td>\n",
              "      <td>0.084076</td>\n",
              "      <td>0.307927</td>\n",
              "      <td>0.437126</td>\n",
              "      <td>0.330508</td>\n",
              "      <td>37.474269</td>\n",
              "    </tr>\n",
              "    <tr>\n",
              "      <th>4</th>\n",
              "      <td>0</td>\n",
              "      <td>LinearSVC2</td>\n",
              "      <td>0.537896</td>\n",
              "      <td>0.537896</td>\n",
              "      <td>0.311013</td>\n",
              "      <td>0.274343</td>\n",
              "      <td>0.277298</td>\n",
              "      <td>0.489277</td>\n",
              "      <td>0.537896</td>\n",
              "      <td>0.503174</td>\n",
              "      <td>7.759248</td>\n",
              "    </tr>\n",
              "  </tbody>\n",
              "</table>\n",
              "</div>"
            ],
            "text/plain": [
              "   index                Model  Accuracy  Micro F1  Macro Precision  \\\n",
              "0      0       MultinomialNB2  0.542173  0.542173         0.201976   \n",
              "1      0          GaussianNB2  0.211634  0.211634         0.165988   \n",
              "2      0  LogisticRegression2  0.563559  0.563559         0.324405   \n",
              "3      0        RandomForest2  0.437126  0.437126         0.090463   \n",
              "4      0           LinearSVC2  0.537896  0.537896         0.311013   \n",
              "\n",
              "   Macro Recall  Macro F1score  Weighted Precision  Weighted Recall  \\\n",
              "0      0.182599       0.174268            0.459225         0.542173   \n",
              "1      0.194780       0.148529            0.364699         0.211634   \n",
              "2      0.240764       0.242901            0.505363         0.563559   \n",
              "3      0.106400       0.084076            0.307927         0.437126   \n",
              "4      0.274343       0.277298            0.489277         0.537896   \n",
              "\n",
              "   Weighted F1  Time taken  \n",
              "0     0.475482    2.765015  \n",
              "1     0.239130   19.162827  \n",
              "2     0.508475  135.082568  \n",
              "3     0.330508   37.474269  \n",
              "4     0.503174    7.759248  "
            ]
          },
          "metadata": {
            "tags": []
          },
          "execution_count": 44
        }
      ]
    },
    {
      "cell_type": "code",
      "metadata": {
        "id": "k3beFMMsok7C",
        "outputId": "0217cd92-d7f1-4e0f-e90d-a64480edca79"
      },
      "source": [
        "results_cv_straitified_1gram"
      ],
      "execution_count": null,
      "outputs": [
        {
          "output_type": "execute_result",
          "data": {
            "text/html": [
              "<div>\n",
              "<style scoped>\n",
              "    .dataframe tbody tr th:only-of-type {\n",
              "        vertical-align: middle;\n",
              "    }\n",
              "\n",
              "    .dataframe tbody tr th {\n",
              "        vertical-align: top;\n",
              "    }\n",
              "\n",
              "    .dataframe thead th {\n",
              "        text-align: right;\n",
              "    }\n",
              "</style>\n",
              "<table border=\"1\" class=\"dataframe\">\n",
              "  <thead>\n",
              "    <tr style=\"text-align: right;\">\n",
              "      <th></th>\n",
              "      <th>index</th>\n",
              "      <th>Model</th>\n",
              "      <th>Accuracy</th>\n",
              "      <th>Micro F1</th>\n",
              "      <th>Macro Precision</th>\n",
              "      <th>Macro Recall</th>\n",
              "      <th>Macro F1score</th>\n",
              "      <th>Weighted Precision</th>\n",
              "      <th>Weighted Recall</th>\n",
              "      <th>Weighted F1</th>\n",
              "      <th>Time taken</th>\n",
              "    </tr>\n",
              "  </thead>\n",
              "  <tbody>\n",
              "    <tr>\n",
              "      <th>0</th>\n",
              "      <td>0</td>\n",
              "      <td>MultinomialNB1</td>\n",
              "      <td>0.540120</td>\n",
              "      <td>0.540120</td>\n",
              "      <td>0.205778</td>\n",
              "      <td>0.183237</td>\n",
              "      <td>0.175208</td>\n",
              "      <td>0.458353</td>\n",
              "      <td>0.540120</td>\n",
              "      <td>0.474655</td>\n",
              "      <td>1.742476</td>\n",
              "    </tr>\n",
              "    <tr>\n",
              "      <th>1</th>\n",
              "      <td>0</td>\n",
              "      <td>GaussianNB1</td>\n",
              "      <td>0.116681</td>\n",
              "      <td>0.116681</td>\n",
              "      <td>0.141528</td>\n",
              "      <td>0.158912</td>\n",
              "      <td>0.103220</td>\n",
              "      <td>0.310021</td>\n",
              "      <td>0.116681</td>\n",
              "      <td>0.135088</td>\n",
              "      <td>9.085711</td>\n",
              "    </tr>\n",
              "    <tr>\n",
              "      <th>2</th>\n",
              "      <td>0</td>\n",
              "      <td>LogisticRegression1</td>\n",
              "      <td>0.568178</td>\n",
              "      <td>0.568178</td>\n",
              "      <td>0.332463</td>\n",
              "      <td>0.243235</td>\n",
              "      <td>0.246435</td>\n",
              "      <td>0.507137</td>\n",
              "      <td>0.568178</td>\n",
              "      <td>0.512977</td>\n",
              "      <td>77.167595</td>\n",
              "    </tr>\n",
              "    <tr>\n",
              "      <th>3</th>\n",
              "      <td>0</td>\n",
              "      <td>RandomForest1</td>\n",
              "      <td>0.445338</td>\n",
              "      <td>0.445338</td>\n",
              "      <td>0.121989</td>\n",
              "      <td>0.110248</td>\n",
              "      <td>0.089828</td>\n",
              "      <td>0.348790</td>\n",
              "      <td>0.445338</td>\n",
              "      <td>0.340372</td>\n",
              "      <td>21.212286</td>\n",
              "    </tr>\n",
              "    <tr>\n",
              "      <th>4</th>\n",
              "      <td>0</td>\n",
              "      <td>LinearSVC1</td>\n",
              "      <td>0.554833</td>\n",
              "      <td>0.554833</td>\n",
              "      <td>0.318929</td>\n",
              "      <td>0.274926</td>\n",
              "      <td>0.277788</td>\n",
              "      <td>0.504100</td>\n",
              "      <td>0.554833</td>\n",
              "      <td>0.512817</td>\n",
              "      <td>7.235629</td>\n",
              "    </tr>\n",
              "  </tbody>\n",
              "</table>\n",
              "</div>"
            ],
            "text/plain": [
              "   index                Model  Accuracy  Micro F1  Macro Precision  \\\n",
              "0      0       MultinomialNB1  0.540120  0.540120         0.205778   \n",
              "1      0          GaussianNB1  0.116681  0.116681         0.141528   \n",
              "2      0  LogisticRegression1  0.568178  0.568178         0.332463   \n",
              "3      0        RandomForest1  0.445338  0.445338         0.121989   \n",
              "4      0           LinearSVC1  0.554833  0.554833         0.318929   \n",
              "\n",
              "   Macro Recall  Macro F1score  Weighted Precision  Weighted Recall  \\\n",
              "0      0.183237       0.175208            0.458353         0.540120   \n",
              "1      0.158912       0.103220            0.310021         0.116681   \n",
              "2      0.243235       0.246435            0.507137         0.568178   \n",
              "3      0.110248       0.089828            0.348790         0.445338   \n",
              "4      0.274926       0.277788            0.504100         0.554833   \n",
              "\n",
              "   Weighted F1  Time taken  \n",
              "0     0.474655    1.742476  \n",
              "1     0.135088    9.085711  \n",
              "2     0.512977   77.167595  \n",
              "3     0.340372   21.212286  \n",
              "4     0.512817    7.235629  "
            ]
          },
          "metadata": {
            "tags": []
          },
          "execution_count": 41
        }
      ]
    },
    {
      "cell_type": "code",
      "metadata": {
        "id": "0hw8NSB5ok7D"
      },
      "source": [
        "#with open('results_cv_straitified_2gram_df.pickle', 'wb') as to_write:\n",
        "#    pickle.dump(results_cv_straitified_2gram, to_write)"
      ],
      "execution_count": null,
      "outputs": []
    },
    {
      "cell_type": "code",
      "metadata": {
        "id": "r0sAcO7Eok7D"
      },
      "source": [
        "with open('results_cv_straitified_2gram_df.pickle', 'rb') as to_read:\n",
        "    results_cv_straitified_2gram = pickle.load(to_read)"
      ],
      "execution_count": null,
      "outputs": []
    },
    {
      "cell_type": "markdown",
      "metadata": {
        "id": "mUL8vGOrok7D"
      },
      "source": [
        "# Using GloVe50d\n"
      ]
    },
    {
      "cell_type": "code",
      "metadata": {
        "id": "-94_CGLEok7E"
      },
      "source": [
        "#Each complaint is mapped to a feature vector by averaging the word embeddings of all words in the review. \n",
        "#These features are then fed into the defined function above for train/cross validation."
      ],
      "execution_count": null,
      "outputs": []
    },
    {
      "cell_type": "code",
      "metadata": {
        "id": "ZZ2Cn_lxok7F"
      },
      "source": [
        "\n",
        "# ## Using pre-trained GloVe\n",
        "# #download from https://nlp.stanford.edu/projects/glove/\n",
        "\n",
        "# glove_file = glove_dir = 'glove.6B.50d.txt'\n",
        "# w2v_output_file = 'glove.6B.50d.txt.w2v'\n",
        "\n",
        "# # The following utility converts file formats\n",
        "# gensim.scripts.glove2word2vec.glove2word2vec(glove_file, w2v_output_file)\n",
        "\n",
        "# # Now we can load it!\n",
        "# glove_model_50d = gensim.models.KeyedVectors.load_word2vec_format(w2v_output_file, binary=False)\n",
        "\n",
        "# # Pickle glove model so we don't have to do the above steps again and keep the damn glove.6b.50d in our folder\n",
        "# with open('glove_model_50d.pickle', 'wb') as to_write:\n",
        "#     pickle.dump(glove_model_50d, to_write)"
      ],
      "execution_count": null,
      "outputs": []
    },
    {
      "cell_type": "code",
      "metadata": {
        "id": "SQVCUCqJok7F"
      },
      "source": [
        "# Load pickled glove_model\n",
        "with open('glove_model_50d.pickle', 'rb') as to_read:\n",
        "    glove_model_50d = pickle.load(to_read)\n",
        "    \n",
        "num_features = 50 # depends on the pre-trained model you are loading"
      ],
      "execution_count": null,
      "outputs": []
    },
    {
      "cell_type": "code",
      "metadata": {
        "id": "CHnrXX26ok7F"
      },
      "source": [
        "def complaint_to_wordlist(review, remove_stopwords=False):\n",
        "    \"\"\"\n",
        "    Convert a complaint to a list of words. Removal of stop words is optional.\n",
        "    \"\"\"\n",
        "    # remove non-letters\n",
        "    review_text = re.sub(\"[^a-zA-Z]\",\" \", review)\n",
        "    \n",
        "    # convert to lower case and split at whitespace\n",
        "    words = review_text.lower().split()\n",
        "    \n",
        "    # remove stop words (false by default)\n",
        "    if remove_stopwords:\n",
        "        stops = set(stopwords.words(\"english\"))\n",
        "        words = [w for w in words if not w in stops]\n",
        "\n",
        "    return words    # list of tokenized and cleaned words"
      ],
      "execution_count": null,
      "outputs": []
    },
    {
      "cell_type": "code",
      "metadata": {
        "id": "ET79sGrcok7G"
      },
      "source": [
        "# num_features refer to the dimensionality of the model you are using\n",
        "# model refers to the trained word2vec/glove model\n",
        "# words refer to the words in a single document/entry\n",
        "\n",
        "def make_feature_vec(words, model, num_features):\n",
        "    \"\"\"\n",
        "    Average the word vectors for a set of words\n",
        "    \"\"\"\n",
        "    feature_vec = np.zeros((num_features,),  # creates a zero matrix of (num_features, )\n",
        "                           dtype=\"float32\")  # pre-initialize (for speed)\n",
        "    \n",
        "    # Initialize a counter for the number of words in a complaint\n",
        "    nwords = 0.\n",
        "    index2word_set = set(model.index2word)  # words known to the model\n",
        "\n",
        "    \n",
        "    # Loop over each word in the comment and, if it is in the model's vocabulary, add its feature vector to the total\n",
        "    for word in words:   # for each word in the list of words\n",
        "        if word in index2word_set:   # if each word is found in the words known to the model\n",
        "            nwords = nwords + 1.     # add 1 to nwords\n",
        "            feature_vec = np.add(feature_vec, model[word])   \n",
        "    \n",
        "    # Divide by the number of words to get the average \n",
        "    if nwords > 0:\n",
        "        feature_vec = np.divide(feature_vec, nwords)\n",
        "    \n",
        "    return feature_vec"
      ],
      "execution_count": null,
      "outputs": []
    },
    {
      "cell_type": "code",
      "metadata": {
        "id": "pd1Jf624ok7G"
      },
      "source": [
        "# complaints refers to the whole corpus you intend to put in. \n",
        "# Therefore you need to append all these info from your df into a list first\n",
        "\n",
        "def get_avg_feature_vecs(complaints, model, num_features):\n",
        "    \"\"\"\n",
        "    Calculate average feature vectors for ALL complaints\n",
        "    \"\"\"\n",
        "    # Initialize a counter for indexing \n",
        "    counter = 0\n",
        "    \n",
        "    # pre-initialize (for speed)\n",
        "    complaint_feature_vecs = np.zeros((len(complaints),num_features), dtype='float32')  \n",
        "    \n",
        "    for complaint in complaints: # each complaint is made up of tokenized/cleaned/stopwords removed words\n",
        "        complaint_feature_vecs[counter] = make_feature_vec(complaint, model, num_features)\n",
        "        counter = counter + 1\n",
        "    return complaint_feature_vecs"
      ],
      "execution_count": null,
      "outputs": []
    },
    {
      "cell_type": "code",
      "metadata": {
        "id": "LTmaoetHok7H"
      },
      "source": [
        "# # Tokenizing and vectorizing our Train_Val Complaints (80%)\n",
        "# clean_train_val_complaints = []\n",
        "# for complaint in X_train_val:\n",
        "#     clean_train_val_complaints.append(complaint_to_wordlist(complaint, True))\n",
        "\n",
        "# X_train_val_glove_features = get_avg_feature_vecs(clean_train_val_complaints, glove_model_50d, num_features)\n",
        "\n",
        "# # Tokenizing and vectorizing our Test Complaints (20%)\n",
        "# clean_test_complaints = []\n",
        "# for complaint in X_train_val:\n",
        "#     clean_test_complaints.append(complaint_to_wordlist(complaint, True))\n",
        "\n",
        "# X_test_glove_features = get_avg_feature_vecs(clean_test_complaints, glove_model_50d, num_features)"
      ],
      "execution_count": null,
      "outputs": []
    },
    {
      "cell_type": "code",
      "metadata": {
        "id": "9o-cIOvSok7H"
      },
      "source": [
        "# ## Run the X_train_val_word2vec_features into our defined function for scoring \n",
        "\n",
        "# # Initialize Model Object\n",
        "# gnb = GaussianNB()\n",
        "# mnb = MultinomialNB()\n",
        "# logit = LogisticRegression(random_state=seed)\n",
        "# randomforest = RandomForestClassifier(n_estimators=100, max_depth=5, random_state=0)\n",
        "# linearsvc = LinearSVC()\n",
        "\n",
        "\n",
        "# # to concat all models\n",
        "# results_cv_straitified_glove50d = pd.concat([\n",
        "# #     metric_cv_stratified(mnb, X_train_val_glove_features, y_train_val, 5, 'MultinomialNB_glove50d'),\n",
        "#      metric_cv_stratified(gnb, X_train_val_glove_features, y_train_val, 5, 'GaussianNB_glove50d'),\n",
        "#      metric_cv_stratified(logit, X_train_val_glove_features, y_train_val, 5, 'LogisticRegression_glove50d'),\n",
        "#      metric_cv_stratified(randomforest, X_train_val_glove_features, y_train_val, 5, 'RandomForest_glove50d'),\n",
        "#      metric_cv_stratified(linearsvc, X_train_val_glove_features, y_train_val, 5, 'LinearSVC_glove50d')\n",
        "#     ], axis=0).reset_index()"
      ],
      "execution_count": null,
      "outputs": []
    },
    {
      "cell_type": "code",
      "metadata": {
        "id": "e6v0FPxdok7H"
      },
      "source": [
        "# # Saving Results into a DF\n",
        "# with open('results_cv_straitified_glove50d.pickle', 'wb') as to_write:\n",
        "#     pickle.dump(results_cv_straitified_glove50d, to_write)"
      ],
      "execution_count": null,
      "outputs": []
    },
    {
      "cell_type": "code",
      "metadata": {
        "id": "ZQ8xU_tKok7H"
      },
      "source": [
        "# Opening Results\n",
        "with open('results_cv_straitified_glove50d.pickle', 'rb') as to_read:\n",
        "    results_cv_straitified_glove50d = pickle.load(to_read)"
      ],
      "execution_count": null,
      "outputs": []
    },
    {
      "cell_type": "code",
      "metadata": {
        "id": "_BmT8dpqok7I",
        "outputId": "0d44b3b8-0551-4a9f-b0a6-936b4d56e6cf"
      },
      "source": [
        "results_cv_straitified_glove50d"
      ],
      "execution_count": null,
      "outputs": [
        {
          "output_type": "execute_result",
          "data": {
            "text/html": [
              "<div>\n",
              "<style scoped>\n",
              "    .dataframe tbody tr th:only-of-type {\n",
              "        vertical-align: middle;\n",
              "    }\n",
              "\n",
              "    .dataframe tbody tr th {\n",
              "        vertical-align: top;\n",
              "    }\n",
              "\n",
              "    .dataframe thead th {\n",
              "        text-align: right;\n",
              "    }\n",
              "</style>\n",
              "<table border=\"1\" class=\"dataframe\">\n",
              "  <thead>\n",
              "    <tr style=\"text-align: right;\">\n",
              "      <th></th>\n",
              "      <th>index</th>\n",
              "      <th>Model</th>\n",
              "      <th>Accuracy</th>\n",
              "      <th>Micro F1</th>\n",
              "      <th>Macro Precision</th>\n",
              "      <th>Macro Recall</th>\n",
              "      <th>Macro F1score</th>\n",
              "      <th>Weighted Precision</th>\n",
              "      <th>Weighted Recall</th>\n",
              "      <th>Weighted F1</th>\n",
              "      <th>Time taken</th>\n",
              "    </tr>\n",
              "  </thead>\n",
              "  <tbody>\n",
              "    <tr>\n",
              "      <th>0</th>\n",
              "      <td>0</td>\n",
              "      <td>GaussianNB_glove50d</td>\n",
              "      <td>0.392814</td>\n",
              "      <td>0.392814</td>\n",
              "      <td>0.203111</td>\n",
              "      <td>0.244746</td>\n",
              "      <td>0.210257</td>\n",
              "      <td>0.397782</td>\n",
              "      <td>0.392814</td>\n",
              "      <td>0.388281</td>\n",
              "      <td>1.059376</td>\n",
              "    </tr>\n",
              "    <tr>\n",
              "      <th>1</th>\n",
              "      <td>0</td>\n",
              "      <td>LogisticRegression_glove50d</td>\n",
              "      <td>0.501454</td>\n",
              "      <td>0.501454</td>\n",
              "      <td>0.280851</td>\n",
              "      <td>0.209960</td>\n",
              "      <td>0.215189</td>\n",
              "      <td>0.459384</td>\n",
              "      <td>0.501454</td>\n",
              "      <td>0.451284</td>\n",
              "      <td>26.226303</td>\n",
              "    </tr>\n",
              "    <tr>\n",
              "      <th>2</th>\n",
              "      <td>0</td>\n",
              "      <td>RandomForest_glove50d</td>\n",
              "      <td>0.432164</td>\n",
              "      <td>0.432164</td>\n",
              "      <td>0.119473</td>\n",
              "      <td>0.120087</td>\n",
              "      <td>0.107409</td>\n",
              "      <td>0.317063</td>\n",
              "      <td>0.432164</td>\n",
              "      <td>0.342962</td>\n",
              "      <td>55.327241</td>\n",
              "    </tr>\n",
              "    <tr>\n",
              "      <th>3</th>\n",
              "      <td>0</td>\n",
              "      <td>LinearSVC_glove50d</td>\n",
              "      <td>0.495808</td>\n",
              "      <td>0.495808</td>\n",
              "      <td>0.235459</td>\n",
              "      <td>0.193159</td>\n",
              "      <td>0.192205</td>\n",
              "      <td>0.429242</td>\n",
              "      <td>0.495808</td>\n",
              "      <td>0.432596</td>\n",
              "      <td>147.024114</td>\n",
              "    </tr>\n",
              "  </tbody>\n",
              "</table>\n",
              "</div>"
            ],
            "text/plain": [
              "   index                        Model  Accuracy  Micro F1  Macro Precision  \\\n",
              "0      0          GaussianNB_glove50d  0.392814  0.392814         0.203111   \n",
              "1      0  LogisticRegression_glove50d  0.501454  0.501454         0.280851   \n",
              "2      0        RandomForest_glove50d  0.432164  0.432164         0.119473   \n",
              "3      0           LinearSVC_glove50d  0.495808  0.495808         0.235459   \n",
              "\n",
              "   Macro Recall  Macro F1score  Weighted Precision  Weighted Recall  \\\n",
              "0      0.244746       0.210257            0.397782         0.392814   \n",
              "1      0.209960       0.215189            0.459384         0.501454   \n",
              "2      0.120087       0.107409            0.317063         0.432164   \n",
              "3      0.193159       0.192205            0.429242         0.495808   \n",
              "\n",
              "   Weighted F1  Time taken  \n",
              "0     0.388281    1.059376  \n",
              "1     0.451284   26.226303  \n",
              "2     0.342962   55.327241  \n",
              "3     0.432596  147.024114  "
            ]
          },
          "metadata": {
            "tags": []
          },
          "execution_count": 55
        }
      ]
    },
    {
      "cell_type": "markdown",
      "metadata": {
        "id": "t_tadLYfok7J"
      },
      "source": [
        "### Using GloVe100d"
      ]
    },
    {
      "cell_type": "code",
      "metadata": {
        "id": "jVyqdLzSok7J"
      },
      "source": [
        "#del glove_model_50d, results_cv_straitified_glove50d"
      ],
      "execution_count": null,
      "outputs": []
    },
    {
      "cell_type": "code",
      "metadata": {
        "id": "mVhk8ZxRok7J"
      },
      "source": [
        "# ## Using pre-trained GloVe\n",
        "# # download from https://nlp.stanford.edu/projects/glove/\n",
        "\n",
        "# num_features = 100 # depends on the pre-trained model you are loading\n",
        "\n",
        "# glove_file = glove_dir = 'glove.6B.' + str(num_features) + 'd.txt'\n",
        "# w2v_output_file = 'glove.6B.' + str(num_features) + 'd.txt.w2v'\n",
        "\n",
        "# # The following utility converts file formats\n",
        "# gensim.scripts.glove2word2vec.glove2word2vec(glove_file, w2v_output_file)\n",
        "\n",
        "# # Now we can load it!\n",
        "# glove_model_100d = gensim.models.KeyedVectors.load_word2vec_format(w2v_output_file, binary=False)\n",
        "\n",
        "# # Pickle glove model so we don't have to do the above steps again and keep the damn glove.6b.50d in our folder\n",
        "# with open('glove_model_' + str(num_features) + 'd.pickle', 'wb') as to_write:\n",
        "#     pickle.dump(glove_model_100d, to_write)"
      ],
      "execution_count": null,
      "outputs": []
    },
    {
      "cell_type": "code",
      "metadata": {
        "id": "rIU7mbAfok7K"
      },
      "source": [
        "# Load pickled glove_model\n",
        "with open('glove_model_100d.pickle', 'rb') as to_read:\n",
        "    glove_model_100d = pickle.load(to_read)"
      ],
      "execution_count": null,
      "outputs": []
    },
    {
      "cell_type": "code",
      "metadata": {
        "id": "ybpFPKZ1ok7K"
      },
      "source": [
        "# # For Train_Val Complaints (80%)\n",
        "# clean_train_val_complaints = []\n",
        "# for complaint in X_train_val:\n",
        "#     clean_train_val_complaints.append(complaint_to_wordlist(complaint, True))\n",
        "\n",
        "# X_train_val_glove_features = get_avg_feature_vecs(clean_train_val_complaints, glove_model_100d, num_features)\n",
        "\n",
        "# # For Test Complaints (20%)\n",
        "# clean_test_complaints = []\n",
        "# for complaint in X_train_val:\n",
        "#     clean_test_complaints.append(complaint_to_wordlist(complaint, True))\n",
        "\n",
        "# X_test_glove_features = get_avg_feature_vecs(clean_test_complaints, glove_model_100d, num_features)"
      ],
      "execution_count": null,
      "outputs": []
    },
    {
      "cell_type": "code",
      "metadata": {
        "id": "0AUytaneok7K"
      },
      "source": [
        "# ## Run the X_train_val_word2vec_features into our defined function for scoring \n",
        "\n",
        "# # Initialize Model Object\n",
        "# gnb = GaussianNB()\n",
        "# mnb = MultinomialNB()\n",
        "# logit = LogisticRegression(random_state=seed)\n",
        "# randomforest = RandomForestClassifier(n_estimators=100, max_depth=5, random_state=0)\n",
        "# linearsvc = LinearSVC()\n",
        "\n",
        "# ## We do NOT want these two. They take FOREVER to train AND predict\n",
        "# # knn = KNeighborsClassifier()  \n",
        "# # decisiontree = DecisionTreeClassifier(random_state=seed)\n",
        "\n",
        "# # to concat all models\n",
        "# results_cv_straitified_glove100d = pd.concat([\n",
        "# #     metric_cv_stratified(mnb, X_train_val_glove_features, y_train_val, 5, 'MultinomialNB_glove50d'),\n",
        "#      metric_cv_stratified(gnb, X_train_val_glove_features, y_train_val, 5, 'GaussianNB_glove100d'),\n",
        "#      metric_cv_stratified(logit, X_train_val_glove_features, y_train_val, 5, 'LogisticRegression_glove100d'),\n",
        "#      metric_cv_stratified(randomforest, X_train_val_glove_features, y_train_val, 5, 'RandomForest_glove100d'),\n",
        "#      metric_cv_stratified(linearsvc, X_train_val_glove_features, y_train_val, 5, 'LinearSVC_glove100d')\n",
        "#     ], axis=0).reset_index()"
      ],
      "execution_count": null,
      "outputs": []
    },
    {
      "cell_type": "code",
      "metadata": {
        "id": "KhJbryyOok7L"
      },
      "source": [
        "# with open('results_cv_straitified_glove100d.pickle', 'wb') as to_write:\n",
        "#     pickle.dump(results_cv_straitified_glove100d, to_write)"
      ],
      "execution_count": null,
      "outputs": []
    },
    {
      "cell_type": "code",
      "metadata": {
        "id": "6RZdol0bok7M"
      },
      "source": [
        "# Opening Results\n",
        "with open('results_cv_straitified_glove100d.pickle', 'rb') as to_read:\n",
        "    results_cv_straitified_glove100d = pickle.load(to_read)"
      ],
      "execution_count": null,
      "outputs": []
    },
    {
      "cell_type": "code",
      "metadata": {
        "id": "sRjDhy3zok7M",
        "outputId": "cd3fea14-9416-46b0-fe78-6c660acd1da3"
      },
      "source": [
        "results_cv_straitified_glove100d"
      ],
      "execution_count": null,
      "outputs": [
        {
          "output_type": "execute_result",
          "data": {
            "text/html": [
              "<div>\n",
              "<style scoped>\n",
              "    .dataframe tbody tr th:only-of-type {\n",
              "        vertical-align: middle;\n",
              "    }\n",
              "\n",
              "    .dataframe tbody tr th {\n",
              "        vertical-align: top;\n",
              "    }\n",
              "\n",
              "    .dataframe thead th {\n",
              "        text-align: right;\n",
              "    }\n",
              "</style>\n",
              "<table border=\"1\" class=\"dataframe\">\n",
              "  <thead>\n",
              "    <tr style=\"text-align: right;\">\n",
              "      <th></th>\n",
              "      <th>index</th>\n",
              "      <th>Model</th>\n",
              "      <th>Accuracy</th>\n",
              "      <th>Micro F1</th>\n",
              "      <th>Macro Precision</th>\n",
              "      <th>Macro Recall</th>\n",
              "      <th>Macro F1score</th>\n",
              "      <th>Weighted Precision</th>\n",
              "      <th>Weighted Recall</th>\n",
              "      <th>Weighted F1</th>\n",
              "      <th>Time taken</th>\n",
              "    </tr>\n",
              "  </thead>\n",
              "  <tbody>\n",
              "    <tr>\n",
              "      <th>0</th>\n",
              "      <td>0</td>\n",
              "      <td>GaussianNB_glove100d</td>\n",
              "      <td>0.407528</td>\n",
              "      <td>0.407528</td>\n",
              "      <td>0.233434</td>\n",
              "      <td>0.283323</td>\n",
              "      <td>0.234904</td>\n",
              "      <td>0.451500</td>\n",
              "      <td>0.407528</td>\n",
              "      <td>0.417535</td>\n",
              "      <td>1.431750</td>\n",
              "    </tr>\n",
              "    <tr>\n",
              "      <th>1</th>\n",
              "      <td>0</td>\n",
              "      <td>LogisticRegression_glove100d</td>\n",
              "      <td>0.550214</td>\n",
              "      <td>0.550214</td>\n",
              "      <td>0.323551</td>\n",
              "      <td>0.261588</td>\n",
              "      <td>0.268414</td>\n",
              "      <td>0.499682</td>\n",
              "      <td>0.550214</td>\n",
              "      <td>0.504889</td>\n",
              "      <td>39.701219</td>\n",
              "    </tr>\n",
              "    <tr>\n",
              "      <th>2</th>\n",
              "      <td>0</td>\n",
              "      <td>RandomForest_glove100d</td>\n",
              "      <td>0.457314</td>\n",
              "      <td>0.457314</td>\n",
              "      <td>0.121513</td>\n",
              "      <td>0.130589</td>\n",
              "      <td>0.116406</td>\n",
              "      <td>0.329671</td>\n",
              "      <td>0.457314</td>\n",
              "      <td>0.365411</td>\n",
              "      <td>76.902029</td>\n",
              "    </tr>\n",
              "    <tr>\n",
              "      <th>3</th>\n",
              "      <td>0</td>\n",
              "      <td>LinearSVC_glove100d</td>\n",
              "      <td>0.552438</td>\n",
              "      <td>0.552438</td>\n",
              "      <td>0.338310</td>\n",
              "      <td>0.267908</td>\n",
              "      <td>0.273771</td>\n",
              "      <td>0.503821</td>\n",
              "      <td>0.552438</td>\n",
              "      <td>0.504627</td>\n",
              "      <td>214.637019</td>\n",
              "    </tr>\n",
              "  </tbody>\n",
              "</table>\n",
              "</div>"
            ],
            "text/plain": [
              "   index                         Model  Accuracy  Micro F1  Macro Precision  \\\n",
              "0      0          GaussianNB_glove100d  0.407528  0.407528         0.233434   \n",
              "1      0  LogisticRegression_glove100d  0.550214  0.550214         0.323551   \n",
              "2      0        RandomForest_glove100d  0.457314  0.457314         0.121513   \n",
              "3      0           LinearSVC_glove100d  0.552438  0.552438         0.338310   \n",
              "\n",
              "   Macro Recall  Macro F1score  Weighted Precision  Weighted Recall  \\\n",
              "0      0.283323       0.234904            0.451500         0.407528   \n",
              "1      0.261588       0.268414            0.499682         0.550214   \n",
              "2      0.130589       0.116406            0.329671         0.457314   \n",
              "3      0.267908       0.273771            0.503821         0.552438   \n",
              "\n",
              "   Weighted F1  Time taken  \n",
              "0     0.417535    1.431750  \n",
              "1     0.504889   39.701219  \n",
              "2     0.365411   76.902029  \n",
              "3     0.504627  214.637019  "
            ]
          },
          "metadata": {
            "tags": []
          },
          "execution_count": 63
        }
      ]
    },
    {
      "cell_type": "markdown",
      "metadata": {
        "id": "iDQI6CdXok7N"
      },
      "source": [
        "### Using GloVe200d"
      ]
    },
    {
      "cell_type": "code",
      "metadata": {
        "id": "35weJQxNok7N"
      },
      "source": [
        "#del glove_model_100d, results_cv_straitified_glove100d"
      ],
      "execution_count": null,
      "outputs": []
    },
    {
      "cell_type": "code",
      "metadata": {
        "id": "EoFG0Y2Sok7N"
      },
      "source": [
        "# ## Using pre-trained GloVe\n",
        "# # download from https://nlp.stanford.edu/projects/glove/\n",
        "\n",
        "# num_features = 200 # depends on the pre-trained model you are loading\n",
        "\n",
        "# glove_file = glove_dir = 'glove.6B.' + str(num_features) + 'd.txt'\n",
        "# w2v_output_file = 'glove.6B.' + str(num_features) + 'd.txt.w2v'\n",
        "\n",
        "# # The following utility converts file formats\n",
        "# gensim.scripts.glove2word2vec.glove2word2vec(glove_file, w2v_output_file)\n",
        "\n",
        "# # Now we can load it!\n",
        "# glove_model_200d = gensim.models.KeyedVectors.load_word2vec_format(w2v_output_file, binary=False)\n",
        "\n",
        "# # Pickle glove model so we don't have to do the above steps again and keep the damn glove.6b.50d in our folder\n",
        "# with open('glove_model_' + str(num_features) + 'd.pickle', 'wb') as to_write:\n",
        "#     pickle.dump(glove_model_200d, to_write)"
      ],
      "execution_count": null,
      "outputs": []
    },
    {
      "cell_type": "code",
      "metadata": {
        "id": "4tQrCGPkok7N"
      },
      "source": [
        "with open('glove_model_200d.pickle', 'rb') as to_read:\n",
        "    glove_model_200d = pickle.load(to_read)"
      ],
      "execution_count": null,
      "outputs": []
    },
    {
      "cell_type": "code",
      "metadata": {
        "id": "1MSvLjzzok7O"
      },
      "source": [
        "# # For Train_Val Complaints (80%)\n",
        "# clean_train_val_complaints = []\n",
        "# for complaint in X_train_val:\n",
        "#     clean_train_val_complaints.append(complaint_to_wordlist(complaint, True))\n",
        "\n",
        "# X_train_val_glove_features = get_avg_feature_vecs(clean_train_val_complaints, glove_model_200d, num_features)\n",
        "\n",
        "# #Already run above\n",
        "# #For Test Complaints (20%)\n",
        "# clean_test_complaints = []\n",
        "# for complaint in X_train_val:\n",
        "#     clean_test_complaints.append(complaint_to_wordlist(complaint, True))\n",
        "\n",
        "# X_test_glove_features = get_avg_feature_vecs(clean_test_complaints, glove_model_200d, num_features)"
      ],
      "execution_count": null,
      "outputs": []
    },
    {
      "cell_type": "code",
      "metadata": {
        "scrolled": true,
        "id": "pNZ23rE1ok7P"
      },
      "source": [
        "# ## Run the X_train_val_word2vec_features into our defined function for scoring \n",
        "\n",
        "# # Initialize Model Object\n",
        "# gnb = GaussianNB()\n",
        "# mnb = MultinomialNB()\n",
        "# logit = LogisticRegression(random_state=seed)\n",
        "# randomforest = RandomForestClassifier(n_estimators=100, max_depth=5, random_state=0)\n",
        "# linearsvc = LinearSVC()\n",
        "\n",
        "# ## We do NOT want these two. They take FOREVER to train AND predict\n",
        "# # knn = KNeighborsClassifier()  \n",
        "# # decisiontree = DecisionTreeClassifier(random_state=seed)\n",
        "\n",
        "# # to concat all models\n",
        "# results_cv_straitified_glove200d = pd.concat([\n",
        "# #     metric_cv_stratified(mnb, X_train_val_glove_features, y_train_val, 5, 'MultinomialNB_glove50d'),\n",
        "#      metric_cv_stratified(gnb, X_train_val_glove_features, y_train_val, 5, 'GaussianNB_glove200d'),\n",
        "#      metric_cv_stratified(logit, X_train_val_glove_features, y_train_val, 5, 'LogisticRegression_glove200d'),\n",
        "#      metric_cv_stratified(randomforest, X_train_val_glove_features, y_train_val, 5, 'RandomForest_glove200d'),\n",
        "#      metric_cv_stratified(linearsvc, X_train_val_glove_features, y_train_val, 5, 'LinearSVC_glove200d')\n",
        "#     ], axis=0).reset_index()"
      ],
      "execution_count": null,
      "outputs": []
    },
    {
      "cell_type": "code",
      "metadata": {
        "id": "_0D7MH9Mok7P"
      },
      "source": [
        "# with open('results_cv_straitified_glove200d.pickle', 'wb') as to_write:\n",
        "#     pickle.dump(results_cv_straitified_glove200d, to_write)"
      ],
      "execution_count": null,
      "outputs": []
    },
    {
      "cell_type": "code",
      "metadata": {
        "id": "cm7WTSDhok7P"
      },
      "source": [
        "with open('results_cv_straitified_glove200d.pickle', 'rb') as to_read:\n",
        "    results_cv_straitified_glove200d = pickle.load(to_read)"
      ],
      "execution_count": null,
      "outputs": []
    },
    {
      "cell_type": "code",
      "metadata": {
        "id": "YoZaDJYmok7P",
        "outputId": "3701e7c9-af4a-4a6b-ad75-04c8c84ffc57"
      },
      "source": [
        "results_cv_straitified_glove200d"
      ],
      "execution_count": null,
      "outputs": [
        {
          "output_type": "execute_result",
          "data": {
            "text/html": [
              "<div>\n",
              "<style scoped>\n",
              "    .dataframe tbody tr th:only-of-type {\n",
              "        vertical-align: middle;\n",
              "    }\n",
              "\n",
              "    .dataframe tbody tr th {\n",
              "        vertical-align: top;\n",
              "    }\n",
              "\n",
              "    .dataframe thead th {\n",
              "        text-align: right;\n",
              "    }\n",
              "</style>\n",
              "<table border=\"1\" class=\"dataframe\">\n",
              "  <thead>\n",
              "    <tr style=\"text-align: right;\">\n",
              "      <th></th>\n",
              "      <th>index</th>\n",
              "      <th>Model</th>\n",
              "      <th>Accuracy</th>\n",
              "      <th>Micro F1</th>\n",
              "      <th>Macro Precision</th>\n",
              "      <th>Macro Recall</th>\n",
              "      <th>Macro F1score</th>\n",
              "      <th>Weighted Precision</th>\n",
              "      <th>Weighted Recall</th>\n",
              "      <th>Weighted F1</th>\n",
              "      <th>Time taken</th>\n",
              "    </tr>\n",
              "  </thead>\n",
              "  <tbody>\n",
              "    <tr>\n",
              "      <th>0</th>\n",
              "      <td>0</td>\n",
              "      <td>GaussianNB_glove200d</td>\n",
              "      <td>0.438494</td>\n",
              "      <td>0.438494</td>\n",
              "      <td>0.269655</td>\n",
              "      <td>0.321288</td>\n",
              "      <td>0.270937</td>\n",
              "      <td>0.493144</td>\n",
              "      <td>0.438494</td>\n",
              "      <td>0.451923</td>\n",
              "      <td>4.214926</td>\n",
              "    </tr>\n",
              "    <tr>\n",
              "      <th>1</th>\n",
              "      <td>0</td>\n",
              "      <td>LogisticRegression_glove200d</td>\n",
              "      <td>0.559624</td>\n",
              "      <td>0.559624</td>\n",
              "      <td>0.349456</td>\n",
              "      <td>0.282217</td>\n",
              "      <td>0.288903</td>\n",
              "      <td>0.511302</td>\n",
              "      <td>0.559624</td>\n",
              "      <td>0.516330</td>\n",
              "      <td>57.037273</td>\n",
              "    </tr>\n",
              "    <tr>\n",
              "      <th>2</th>\n",
              "      <td>0</td>\n",
              "      <td>RandomForest_glove200d</td>\n",
              "      <td>0.469119</td>\n",
              "      <td>0.469119</td>\n",
              "      <td>0.124108</td>\n",
              "      <td>0.135031</td>\n",
              "      <td>0.120671</td>\n",
              "      <td>0.339093</td>\n",
              "      <td>0.469119</td>\n",
              "      <td>0.377625</td>\n",
              "      <td>107.355937</td>\n",
              "    </tr>\n",
              "    <tr>\n",
              "      <th>3</th>\n",
              "      <td>0</td>\n",
              "      <td>LinearSVC_glove200d</td>\n",
              "      <td>0.556373</td>\n",
              "      <td>0.556373</td>\n",
              "      <td>0.317302</td>\n",
              "      <td>0.277824</td>\n",
              "      <td>0.275487</td>\n",
              "      <td>0.510566</td>\n",
              "      <td>0.556373</td>\n",
              "      <td>0.511425</td>\n",
              "      <td>453.989843</td>\n",
              "    </tr>\n",
              "  </tbody>\n",
              "</table>\n",
              "</div>"
            ],
            "text/plain": [
              "   index                         Model  Accuracy  Micro F1  Macro Precision  \\\n",
              "0      0          GaussianNB_glove200d  0.438494  0.438494         0.269655   \n",
              "1      0  LogisticRegression_glove200d  0.559624  0.559624         0.349456   \n",
              "2      0        RandomForest_glove200d  0.469119  0.469119         0.124108   \n",
              "3      0           LinearSVC_glove200d  0.556373  0.556373         0.317302   \n",
              "\n",
              "   Macro Recall  Macro F1score  Weighted Precision  Weighted Recall  \\\n",
              "0      0.321288       0.270937            0.493144         0.438494   \n",
              "1      0.282217       0.288903            0.511302         0.559624   \n",
              "2      0.135031       0.120671            0.339093         0.469119   \n",
              "3      0.277824       0.275487            0.510566         0.556373   \n",
              "\n",
              "   Weighted F1  Time taken  \n",
              "0     0.451923    4.214926  \n",
              "1     0.516330   57.037273  \n",
              "2     0.377625  107.355937  \n",
              "3     0.511425  453.989843  "
            ]
          },
          "metadata": {
            "tags": []
          },
          "execution_count": 71
        }
      ]
    },
    {
      "cell_type": "markdown",
      "metadata": {
        "id": "NoocP1RGok7R"
      },
      "source": [
        "### Using GloVe300d"
      ]
    },
    {
      "cell_type": "code",
      "metadata": {
        "id": "l3UxR14Gok7R"
      },
      "source": [
        "#del glove_model_200d, results_cv_straitified_glove200d"
      ],
      "execution_count": null,
      "outputs": []
    },
    {
      "cell_type": "code",
      "metadata": {
        "id": "RxChYdsnok7R"
      },
      "source": [
        "# ## Using pre-trained GloVe\n",
        "# # download from https://nlp.stanford.edu/projects/glove/\n",
        "\n",
        "# num_features = 300 # depends on the pre-trained model you are loading\n",
        "\n",
        "# glove_file = glove_dir = 'glove.6B.' + str(num_features) + 'd.txt'\n",
        "# w2v_output_file = 'glove.6B.' + str(num_features) + 'd.txt.w2v'\n",
        "\n",
        "# # The following utility converts file formats\n",
        "# gensim.scripts.glove2word2vec.glove2word2vec(glove_file, w2v_output_file)\n",
        "\n",
        "# # Now we can load it!\n",
        "# glove_model_300d = gensim.models.KeyedVectors.load_word2vec_format(w2v_output_file, binary=False)\n",
        "\n",
        "# # Pickle glove model so we don't have to do the above steps again and keep the damn glove.6b.50d in our folder\n",
        "# with open('glove_model_' + str(num_features) + 'd.pickle', 'wb') as to_write:\n",
        "#     pickle.dump(glove_model_300d, to_write)"
      ],
      "execution_count": null,
      "outputs": []
    },
    {
      "cell_type": "code",
      "metadata": {
        "id": "FRR5DQXtok7R"
      },
      "source": [
        "# # Load pickled glove_model\n",
        "# with open('glove_model_300d.pickle', 'rb') as to_read:\n",
        "#     glove_model_300d = pickle.load(to_read)"
      ],
      "execution_count": null,
      "outputs": []
    },
    {
      "cell_type": "code",
      "metadata": {
        "id": "mWSfxMrGok7R"
      },
      "source": [
        "\n",
        "# # For Train_Val Complaints (80%)\n",
        "# clean_train_val_complaints = []\n",
        "# for complaint in X_train_val:\n",
        "#     clean_train_val_complaints.append(complaint_to_wordlist(complaint, True))\n",
        "\n",
        "# X_train_val_glove_features = get_avg_feature_vecs(clean_train_val_complaints, glove_model_300d, num_features)\n",
        "\n",
        "# #Already run above\n",
        "# # For Test Complaints (20%)\n",
        "# clean_test_complaints = []\n",
        "# for complaint in X_train_val:\n",
        "#     clean_test_complaints.append(complaint_to_wordlist(complaint, True))\n",
        "\n",
        "# X_test_glove_features = get_avg_feature_vecs(clean_test_complaints, glove_model_300d, num_features)"
      ],
      "execution_count": null,
      "outputs": []
    },
    {
      "cell_type": "code",
      "metadata": {
        "id": "m0tI4Mrrok7S"
      },
      "source": [
        "# ## Run the X_train_val_word2vec_features into our defined function for scoring \n",
        "\n",
        "# # Initialize Model Object\n",
        "# gnb = GaussianNB()\n",
        "# mnb = MultinomialNB()\n",
        "# logit = LogisticRegression(random_state=seed)\n",
        "# randomforest = RandomForestClassifier(n_estimators=100, max_depth=5, random_state=0)\n",
        "# linearsvc = LinearSVC()\n",
        "\n",
        "# ## We do NOT want these two. They take FOREVER to train AND predict\n",
        "# # knn = KNeighborsClassifier()  \n",
        "# # decisiontree = DecisionTreeClassifier(random_state=seed)\n",
        "\n",
        "# # to concat all models\n",
        "# results_cv_straitified_glove300d= pd.concat([\n",
        "#     # metric_cv_stratified(mnb, X_train_val_glove_features, y_train_val, 5, 'MultinomialNB_glove50d'),\n",
        "#      metric_cv_stratified(gnb, X_train_val_glove_features, y_train_val, 5, 'GaussianNB_glove300d'),\n",
        "#      metric_cv_stratified(logit, X_train_val_glove_features, y_train_val, 5, 'LogisticRegression_glove300d'),\n",
        "#      metric_cv_stratified(randomforest, X_train_val_glove_features, y_train_val, 5, 'RandomForest_glove300d'),\n",
        "#      metric_cv_stratified(linearsvc, X_train_val_glove_features, y_train_val, 5, 'LinearSVC_glove300d')\n",
        "#     ], axis=0).reset_index()"
      ],
      "execution_count": null,
      "outputs": []
    },
    {
      "cell_type": "code",
      "metadata": {
        "id": "CLFBliadok7S"
      },
      "source": [
        "\n",
        "# with open('results_cv_straitified_glove300d.pickle', 'wb') as to_write:\n",
        "#     pickle.dump(results_cv_straitified_glove300d, to_write)"
      ],
      "execution_count": null,
      "outputs": []
    },
    {
      "cell_type": "code",
      "metadata": {
        "id": "Mk9HzJuyok7S"
      },
      "source": [
        "# Opening Results\n",
        "with open('results_cv_straitified_glove300d.pickle', 'rb') as to_read:\n",
        "    results_cv_straitified_glove300d = pickle.load(to_read)"
      ],
      "execution_count": null,
      "outputs": []
    },
    {
      "cell_type": "code",
      "metadata": {
        "id": "H7KVP8lAok7T",
        "outputId": "e1e76cee-0893-41ce-8c73-aa615798f2f2"
      },
      "source": [
        "results_cv_straitified_glove300d"
      ],
      "execution_count": null,
      "outputs": [
        {
          "output_type": "execute_result",
          "data": {
            "text/html": [
              "<div>\n",
              "<style scoped>\n",
              "    .dataframe tbody tr th:only-of-type {\n",
              "        vertical-align: middle;\n",
              "    }\n",
              "\n",
              "    .dataframe tbody tr th {\n",
              "        vertical-align: top;\n",
              "    }\n",
              "\n",
              "    .dataframe thead th {\n",
              "        text-align: right;\n",
              "    }\n",
              "</style>\n",
              "<table border=\"1\" class=\"dataframe\">\n",
              "  <thead>\n",
              "    <tr style=\"text-align: right;\">\n",
              "      <th></th>\n",
              "      <th>index</th>\n",
              "      <th>Model</th>\n",
              "      <th>Accuracy</th>\n",
              "      <th>Micro F1</th>\n",
              "      <th>Macro Precision</th>\n",
              "      <th>Macro Recall</th>\n",
              "      <th>Macro F1score</th>\n",
              "      <th>Weighted Precision</th>\n",
              "      <th>Weighted Recall</th>\n",
              "      <th>Weighted F1</th>\n",
              "      <th>Time taken</th>\n",
              "    </tr>\n",
              "  </thead>\n",
              "  <tbody>\n",
              "    <tr>\n",
              "      <th>0</th>\n",
              "      <td>0</td>\n",
              "      <td>GaussianNB_glove300d</td>\n",
              "      <td>0.423952</td>\n",
              "      <td>0.423952</td>\n",
              "      <td>0.267595</td>\n",
              "      <td>0.321662</td>\n",
              "      <td>0.270538</td>\n",
              "      <td>0.483721</td>\n",
              "      <td>0.423952</td>\n",
              "      <td>0.438690</td>\n",
              "      <td>5.351046</td>\n",
              "    </tr>\n",
              "    <tr>\n",
              "      <th>1</th>\n",
              "      <td>0</td>\n",
              "      <td>LogisticRegression_glove300d</td>\n",
              "      <td>0.563216</td>\n",
              "      <td>0.563216</td>\n",
              "      <td>0.355575</td>\n",
              "      <td>0.285609</td>\n",
              "      <td>0.291020</td>\n",
              "      <td>0.515556</td>\n",
              "      <td>0.563216</td>\n",
              "      <td>0.521305</td>\n",
              "      <td>52.767000</td>\n",
              "    </tr>\n",
              "    <tr>\n",
              "      <th>2</th>\n",
              "      <td>0</td>\n",
              "      <td>RandomForest_glove300d</td>\n",
              "      <td>0.482806</td>\n",
              "      <td>0.482806</td>\n",
              "      <td>0.140454</td>\n",
              "      <td>0.138775</td>\n",
              "      <td>0.124503</td>\n",
              "      <td>0.372200</td>\n",
              "      <td>0.482806</td>\n",
              "      <td>0.390671</td>\n",
              "      <td>116.899824</td>\n",
              "    </tr>\n",
              "    <tr>\n",
              "      <th>3</th>\n",
              "      <td>0</td>\n",
              "      <td>LinearSVC_glove300d</td>\n",
              "      <td>0.555175</td>\n",
              "      <td>0.555175</td>\n",
              "      <td>0.307301</td>\n",
              "      <td>0.279014</td>\n",
              "      <td>0.279385</td>\n",
              "      <td>0.505137</td>\n",
              "      <td>0.555175</td>\n",
              "      <td>0.514641</td>\n",
              "      <td>508.521242</td>\n",
              "    </tr>\n",
              "  </tbody>\n",
              "</table>\n",
              "</div>"
            ],
            "text/plain": [
              "   index                         Model  Accuracy  Micro F1  Macro Precision  \\\n",
              "0      0          GaussianNB_glove300d  0.423952  0.423952         0.267595   \n",
              "1      0  LogisticRegression_glove300d  0.563216  0.563216         0.355575   \n",
              "2      0        RandomForest_glove300d  0.482806  0.482806         0.140454   \n",
              "3      0           LinearSVC_glove300d  0.555175  0.555175         0.307301   \n",
              "\n",
              "   Macro Recall  Macro F1score  Weighted Precision  Weighted Recall  \\\n",
              "0      0.321662       0.270538            0.483721         0.423952   \n",
              "1      0.285609       0.291020            0.515556         0.563216   \n",
              "2      0.138775       0.124503            0.372200         0.482806   \n",
              "3      0.279014       0.279385            0.505137         0.555175   \n",
              "\n",
              "   Weighted F1  Time taken  \n",
              "0     0.438690    5.351046  \n",
              "1     0.521305   52.767000  \n",
              "2     0.390671  116.899824  \n",
              "3     0.514641  508.521242  "
            ]
          },
          "metadata": {
            "tags": []
          },
          "execution_count": 79
        }
      ]
    },
    {
      "cell_type": "markdown",
      "metadata": {
        "id": "Mn8DCIQiok7T"
      },
      "source": [
        "# GoogleNews Word2Vec300d"
      ]
    },
    {
      "cell_type": "code",
      "metadata": {
        "id": "QnUNT9yLok7T"
      },
      "source": [
        "#del glove_model_300d, results_cv_straitified_glove300d"
      ],
      "execution_count": null,
      "outputs": []
    },
    {
      "cell_type": "code",
      "metadata": {
        "id": "qg8FaRRIok7U"
      },
      "source": [
        "# ## Using pre-trained GoogleNews Word2Vec\n",
        "# # download from https://drive.google.com/file/d/0B7XkCwpI5KDYNlNUTTlSS21pQmM/edit\n",
        "\n",
        "# num_features = 300 # depends on the pre-trained model you are loading\n",
        "\n",
        "# # Path to where the word2vec file lives\n",
        "# google_vec_file = 'GoogleNews-vectors-negative300.bin'\n",
        "\n",
        "# # Load it!  This might take a few minutes...\n",
        "# word2vec_model_300d = gensim.models.KeyedVectors.load_word2vec_format(google_vec_file, binary=True)\n",
        "# # it is just loading all the different weights (embedding) into python\n",
        "\n",
        "\n",
        "# # Pickle word2vec 300d model so we don't have to do the above steps again and keep the damn file in our folder\n",
        "# with open('word2vec_model_' + str(num_features) + 'd.pickle', 'wb') as to_write:\n",
        "#     pickle.dump(word2vec_model_300d, to_write)"
      ],
      "execution_count": null,
      "outputs": []
    },
    {
      "cell_type": "code",
      "metadata": {
        "id": "--SqTXI0ok7U"
      },
      "source": [
        "# # Load pickled glove_model\n",
        "# with open('word2vec_model_300d.pickle', 'rb') as to_read:\n",
        "#     word2vec_model_300d = pickle.load(to_read)"
      ],
      "execution_count": null,
      "outputs": []
    },
    {
      "cell_type": "code",
      "metadata": {
        "id": "vkSS6GUWok7U"
      },
      "source": [
        "# # For Train_Val Complaints (80%)\n",
        "# clean_train_val_complaints = []\n",
        "# for complaint in X_train_val:\n",
        "#     clean_train_val_complaints.append(complaint_to_wordlist(complaint, True))\n",
        "\n",
        "# X_train_val_glove_features = get_avg_feature_vecs(clean_train_val_complaints, word2vec_model_300d, num_features)"
      ],
      "execution_count": null,
      "outputs": []
    },
    {
      "cell_type": "code",
      "metadata": {
        "id": "oIWnRh9Iok7V"
      },
      "source": [
        "# ## Run the X_train_val_word2vec_features into our defined function for scoring \n",
        "\n",
        "# # Initialize Model Object\n",
        "# gnb = GaussianNB()\n",
        "# mnb = MultinomialNB()\n",
        "# logit = LogisticRegression(random_state=seed)\n",
        "# randomforest = RandomForestClassifier(n_estimators=100, max_depth=5, random_state=0)\n",
        "# linearsvc = LinearSVC()\n",
        "\n",
        "# ## We do NOT want these two. They take FOREVER to train AND predict\n",
        "# # knn = KNeighborsClassifier()  \n",
        "# # decisiontree = DecisionTreeClassifier(random_state=seed)\n",
        "\n",
        "# # to concat all models\n",
        "# results_cv_straitified_word2vec300d= pd.concat([\n",
        "# #     metric_cv_stratified(mnb, X_train_val_glove_features, y_train_val, 5, 'MultinomialNB_glove50d'),\n",
        "#      metric_cv_stratified(gnb, X_train_val_glove_features, y_train_val, 5, 'GaussianNB_word2vec300d'),\n",
        "#      metric_cv_stratified(logit, X_train_val_glove_features, y_train_val, 5, 'LogisticRegression_word2vec300d'),\n",
        "#      metric_cv_stratified(randomforest, X_train_val_glove_features, y_train_val, 5, 'RandomForest_word2vec300d'),\n",
        "#      metric_cv_stratified(linearsvc, X_train_val_glove_features, y_train_val, 5, 'LinearSVC_word2vec300d')\n",
        "#     ], axis=0).reset_index()"
      ],
      "execution_count": null,
      "outputs": []
    },
    {
      "cell_type": "code",
      "metadata": {
        "id": "TGMiAb6tok7V"
      },
      "source": [
        "# with open('results_cv_straitified_word2vec300d.pickle', 'wb') as to_write:\n",
        "#     pickle.dump(results_cv_straitified_word2vec300d, to_write)"
      ],
      "execution_count": null,
      "outputs": []
    },
    {
      "cell_type": "code",
      "metadata": {
        "id": "NzVUmcNzok7W"
      },
      "source": [
        "# # Opening Results\n",
        "# with open('results_cv_straitified_word2vec300d.pickle', 'rb') as to_read:\n",
        "#     results_cv_straitified_word2vec300d = pickle.load(to_read)"
      ],
      "execution_count": null,
      "outputs": []
    },
    {
      "cell_type": "code",
      "metadata": {
        "id": "Qw463e9uok7W",
        "outputId": "d19327b0-0408-4b14-c148-05e6fdab49c0"
      },
      "source": [
        "results_cv_straitified_word2vec300d"
      ],
      "execution_count": null,
      "outputs": [
        {
          "output_type": "error",
          "ename": "NameError",
          "evalue": "name 'results_cv_straitified_word2vec300d' is not defined",
          "traceback": [
            "\u001b[1;31m---------------------------------------------------------------------------\u001b[0m",
            "\u001b[1;31mNameError\u001b[0m                                 Traceback (most recent call last)",
            "\u001b[1;32m<ipython-input-87-cce6a7d2cf9b>\u001b[0m in \u001b[0;36m<module>\u001b[1;34m\u001b[0m\n\u001b[1;32m----> 1\u001b[1;33m \u001b[0mresults_cv_straitified_word2vec300d\u001b[0m\u001b[1;33m\u001b[0m\u001b[1;33m\u001b[0m\u001b[0m\n\u001b[0m",
            "\u001b[1;31mNameError\u001b[0m: name 'results_cv_straitified_word2vec300d' is not defined"
          ]
        }
      ]
    },
    {
      "cell_type": "code",
      "metadata": {
        "id": "6xikuRrIok7X",
        "outputId": "ae46cbd6-b28c-4e88-9a64-f5b3fdd44d44"
      },
      "source": [
        "del word2vec_model_300d, results_cv_straitified_word2vec300d"
      ],
      "execution_count": null,
      "outputs": [
        {
          "output_type": "error",
          "ename": "NameError",
          "evalue": "name 'word2vec_model_300d' is not defined",
          "traceback": [
            "\u001b[1;31m---------------------------------------------------------------------------\u001b[0m",
            "\u001b[1;31mNameError\u001b[0m                                 Traceback (most recent call last)",
            "\u001b[1;32m<ipython-input-88-7965af08aaea>\u001b[0m in \u001b[0;36m<module>\u001b[1;34m\u001b[0m\n\u001b[1;32m----> 1\u001b[1;33m \u001b[1;32mdel\u001b[0m \u001b[0mword2vec_model_300d\u001b[0m\u001b[1;33m,\u001b[0m \u001b[0mresults_cv_straitified_word2vec300d\u001b[0m\u001b[1;33m\u001b[0m\u001b[1;33m\u001b[0m\u001b[0m\n\u001b[0m",
            "\u001b[1;31mNameError\u001b[0m: name 'word2vec_model_300d' is not defined"
          ]
        }
      ]
    },
    {
      "cell_type": "markdown",
      "metadata": {
        "id": "iEELKnFAok7X"
      },
      "source": [
        "# Compiling Results"
      ]
    },
    {
      "cell_type": "code",
      "metadata": {
        "id": "KM5-5-jJok7Y"
      },
      "source": [
        "results_compiled = pd.concat([results_cv_straitified_1gram,\n",
        "                           results_cv_straitified_glove50d,\n",
        "                           results_cv_straitified_glove100d,\n",
        "                           results_cv_straitified_glove200d,\n",
        "                           results_cv_straitified_glove300d]).reset_index().drop(['level_0','index'],axis=1)"
      ],
      "execution_count": null,
      "outputs": []
    },
    {
      "cell_type": "code",
      "metadata": {
        "id": "ojwIWg8Wok7Y",
        "outputId": "91a9c0ca-5302-4c8e-f9fe-eaeea419c8cd"
      },
      "source": [
        "results_compiled.columns"
      ],
      "execution_count": null,
      "outputs": [
        {
          "output_type": "execute_result",
          "data": {
            "text/plain": [
              "Index(['Model', 'Accuracy', 'Micro F1', 'Macro Precision', 'Macro Recall',\n",
              "       'Macro F1score', 'Weighted Precision', 'Weighted Recall', 'Weighted F1',\n",
              "       'Time taken'],\n",
              "      dtype='object')"
            ]
          },
          "metadata": {
            "tags": []
          },
          "execution_count": 90
        }
      ]
    },
    {
      "cell_type": "code",
      "metadata": {
        "id": "e4VUbExgok7Z",
        "outputId": "499489fe-d416-4651-c4d5-f4e648b660c0"
      },
      "source": [
        "\n",
        "with open('results_compiled.pickle', 'wb') as to_write:\n",
        "    pickle.dump(results_compiled, to_write)\n",
        "\n",
        "results_compiled"
      ],
      "execution_count": null,
      "outputs": [
        {
          "output_type": "execute_result",
          "data": {
            "text/html": [
              "<div>\n",
              "<style scoped>\n",
              "    .dataframe tbody tr th:only-of-type {\n",
              "        vertical-align: middle;\n",
              "    }\n",
              "\n",
              "    .dataframe tbody tr th {\n",
              "        vertical-align: top;\n",
              "    }\n",
              "\n",
              "    .dataframe thead th {\n",
              "        text-align: right;\n",
              "    }\n",
              "</style>\n",
              "<table border=\"1\" class=\"dataframe\">\n",
              "  <thead>\n",
              "    <tr style=\"text-align: right;\">\n",
              "      <th></th>\n",
              "      <th>Model</th>\n",
              "      <th>Accuracy</th>\n",
              "      <th>Micro F1</th>\n",
              "      <th>Macro Precision</th>\n",
              "      <th>Macro Recall</th>\n",
              "      <th>Macro F1score</th>\n",
              "      <th>Weighted Precision</th>\n",
              "      <th>Weighted Recall</th>\n",
              "      <th>Weighted F1</th>\n",
              "      <th>Time taken</th>\n",
              "    </tr>\n",
              "  </thead>\n",
              "  <tbody>\n",
              "    <tr>\n",
              "      <th>0</th>\n",
              "      <td>MultinomialNB1</td>\n",
              "      <td>0.540120</td>\n",
              "      <td>0.540120</td>\n",
              "      <td>0.205778</td>\n",
              "      <td>0.183237</td>\n",
              "      <td>0.175208</td>\n",
              "      <td>0.458353</td>\n",
              "      <td>0.540120</td>\n",
              "      <td>0.474655</td>\n",
              "      <td>1.742476</td>\n",
              "    </tr>\n",
              "    <tr>\n",
              "      <th>1</th>\n",
              "      <td>GaussianNB1</td>\n",
              "      <td>0.116681</td>\n",
              "      <td>0.116681</td>\n",
              "      <td>0.141528</td>\n",
              "      <td>0.158912</td>\n",
              "      <td>0.103220</td>\n",
              "      <td>0.310021</td>\n",
              "      <td>0.116681</td>\n",
              "      <td>0.135088</td>\n",
              "      <td>9.085711</td>\n",
              "    </tr>\n",
              "    <tr>\n",
              "      <th>2</th>\n",
              "      <td>LogisticRegression1</td>\n",
              "      <td>0.568178</td>\n",
              "      <td>0.568178</td>\n",
              "      <td>0.332463</td>\n",
              "      <td>0.243235</td>\n",
              "      <td>0.246435</td>\n",
              "      <td>0.507137</td>\n",
              "      <td>0.568178</td>\n",
              "      <td>0.512977</td>\n",
              "      <td>77.167595</td>\n",
              "    </tr>\n",
              "    <tr>\n",
              "      <th>3</th>\n",
              "      <td>RandomForest1</td>\n",
              "      <td>0.445338</td>\n",
              "      <td>0.445338</td>\n",
              "      <td>0.121989</td>\n",
              "      <td>0.110248</td>\n",
              "      <td>0.089828</td>\n",
              "      <td>0.348790</td>\n",
              "      <td>0.445338</td>\n",
              "      <td>0.340372</td>\n",
              "      <td>21.212286</td>\n",
              "    </tr>\n",
              "    <tr>\n",
              "      <th>4</th>\n",
              "      <td>LinearSVC1</td>\n",
              "      <td>0.554833</td>\n",
              "      <td>0.554833</td>\n",
              "      <td>0.318929</td>\n",
              "      <td>0.274926</td>\n",
              "      <td>0.277788</td>\n",
              "      <td>0.504100</td>\n",
              "      <td>0.554833</td>\n",
              "      <td>0.512817</td>\n",
              "      <td>7.235629</td>\n",
              "    </tr>\n",
              "    <tr>\n",
              "      <th>5</th>\n",
              "      <td>GaussianNB_glove50d</td>\n",
              "      <td>0.392814</td>\n",
              "      <td>0.392814</td>\n",
              "      <td>0.203111</td>\n",
              "      <td>0.244746</td>\n",
              "      <td>0.210257</td>\n",
              "      <td>0.397782</td>\n",
              "      <td>0.392814</td>\n",
              "      <td>0.388281</td>\n",
              "      <td>1.059376</td>\n",
              "    </tr>\n",
              "    <tr>\n",
              "      <th>6</th>\n",
              "      <td>LogisticRegression_glove50d</td>\n",
              "      <td>0.501454</td>\n",
              "      <td>0.501454</td>\n",
              "      <td>0.280851</td>\n",
              "      <td>0.209960</td>\n",
              "      <td>0.215189</td>\n",
              "      <td>0.459384</td>\n",
              "      <td>0.501454</td>\n",
              "      <td>0.451284</td>\n",
              "      <td>26.226303</td>\n",
              "    </tr>\n",
              "    <tr>\n",
              "      <th>7</th>\n",
              "      <td>RandomForest_glove50d</td>\n",
              "      <td>0.432164</td>\n",
              "      <td>0.432164</td>\n",
              "      <td>0.119473</td>\n",
              "      <td>0.120087</td>\n",
              "      <td>0.107409</td>\n",
              "      <td>0.317063</td>\n",
              "      <td>0.432164</td>\n",
              "      <td>0.342962</td>\n",
              "      <td>55.327241</td>\n",
              "    </tr>\n",
              "    <tr>\n",
              "      <th>8</th>\n",
              "      <td>LinearSVC_glove50d</td>\n",
              "      <td>0.495808</td>\n",
              "      <td>0.495808</td>\n",
              "      <td>0.235459</td>\n",
              "      <td>0.193159</td>\n",
              "      <td>0.192205</td>\n",
              "      <td>0.429242</td>\n",
              "      <td>0.495808</td>\n",
              "      <td>0.432596</td>\n",
              "      <td>147.024114</td>\n",
              "    </tr>\n",
              "    <tr>\n",
              "      <th>9</th>\n",
              "      <td>GaussianNB_glove100d</td>\n",
              "      <td>0.407528</td>\n",
              "      <td>0.407528</td>\n",
              "      <td>0.233434</td>\n",
              "      <td>0.283323</td>\n",
              "      <td>0.234904</td>\n",
              "      <td>0.451500</td>\n",
              "      <td>0.407528</td>\n",
              "      <td>0.417535</td>\n",
              "      <td>1.431750</td>\n",
              "    </tr>\n",
              "    <tr>\n",
              "      <th>10</th>\n",
              "      <td>LogisticRegression_glove100d</td>\n",
              "      <td>0.550214</td>\n",
              "      <td>0.550214</td>\n",
              "      <td>0.323551</td>\n",
              "      <td>0.261588</td>\n",
              "      <td>0.268414</td>\n",
              "      <td>0.499682</td>\n",
              "      <td>0.550214</td>\n",
              "      <td>0.504889</td>\n",
              "      <td>39.701219</td>\n",
              "    </tr>\n",
              "    <tr>\n",
              "      <th>11</th>\n",
              "      <td>RandomForest_glove100d</td>\n",
              "      <td>0.457314</td>\n",
              "      <td>0.457314</td>\n",
              "      <td>0.121513</td>\n",
              "      <td>0.130589</td>\n",
              "      <td>0.116406</td>\n",
              "      <td>0.329671</td>\n",
              "      <td>0.457314</td>\n",
              "      <td>0.365411</td>\n",
              "      <td>76.902029</td>\n",
              "    </tr>\n",
              "    <tr>\n",
              "      <th>12</th>\n",
              "      <td>LinearSVC_glove100d</td>\n",
              "      <td>0.552438</td>\n",
              "      <td>0.552438</td>\n",
              "      <td>0.338310</td>\n",
              "      <td>0.267908</td>\n",
              "      <td>0.273771</td>\n",
              "      <td>0.503821</td>\n",
              "      <td>0.552438</td>\n",
              "      <td>0.504627</td>\n",
              "      <td>214.637019</td>\n",
              "    </tr>\n",
              "    <tr>\n",
              "      <th>13</th>\n",
              "      <td>GaussianNB_glove200d</td>\n",
              "      <td>0.438494</td>\n",
              "      <td>0.438494</td>\n",
              "      <td>0.269655</td>\n",
              "      <td>0.321288</td>\n",
              "      <td>0.270937</td>\n",
              "      <td>0.493144</td>\n",
              "      <td>0.438494</td>\n",
              "      <td>0.451923</td>\n",
              "      <td>4.214926</td>\n",
              "    </tr>\n",
              "    <tr>\n",
              "      <th>14</th>\n",
              "      <td>LogisticRegression_glove200d</td>\n",
              "      <td>0.559624</td>\n",
              "      <td>0.559624</td>\n",
              "      <td>0.349456</td>\n",
              "      <td>0.282217</td>\n",
              "      <td>0.288903</td>\n",
              "      <td>0.511302</td>\n",
              "      <td>0.559624</td>\n",
              "      <td>0.516330</td>\n",
              "      <td>57.037273</td>\n",
              "    </tr>\n",
              "    <tr>\n",
              "      <th>15</th>\n",
              "      <td>RandomForest_glove200d</td>\n",
              "      <td>0.469119</td>\n",
              "      <td>0.469119</td>\n",
              "      <td>0.124108</td>\n",
              "      <td>0.135031</td>\n",
              "      <td>0.120671</td>\n",
              "      <td>0.339093</td>\n",
              "      <td>0.469119</td>\n",
              "      <td>0.377625</td>\n",
              "      <td>107.355937</td>\n",
              "    </tr>\n",
              "    <tr>\n",
              "      <th>16</th>\n",
              "      <td>LinearSVC_glove200d</td>\n",
              "      <td>0.556373</td>\n",
              "      <td>0.556373</td>\n",
              "      <td>0.317302</td>\n",
              "      <td>0.277824</td>\n",
              "      <td>0.275487</td>\n",
              "      <td>0.510566</td>\n",
              "      <td>0.556373</td>\n",
              "      <td>0.511425</td>\n",
              "      <td>453.989843</td>\n",
              "    </tr>\n",
              "    <tr>\n",
              "      <th>17</th>\n",
              "      <td>GaussianNB_glove300d</td>\n",
              "      <td>0.423952</td>\n",
              "      <td>0.423952</td>\n",
              "      <td>0.267595</td>\n",
              "      <td>0.321662</td>\n",
              "      <td>0.270538</td>\n",
              "      <td>0.483721</td>\n",
              "      <td>0.423952</td>\n",
              "      <td>0.438690</td>\n",
              "      <td>5.351046</td>\n",
              "    </tr>\n",
              "    <tr>\n",
              "      <th>18</th>\n",
              "      <td>LogisticRegression_glove300d</td>\n",
              "      <td>0.563216</td>\n",
              "      <td>0.563216</td>\n",
              "      <td>0.355575</td>\n",
              "      <td>0.285609</td>\n",
              "      <td>0.291020</td>\n",
              "      <td>0.515556</td>\n",
              "      <td>0.563216</td>\n",
              "      <td>0.521305</td>\n",
              "      <td>52.767000</td>\n",
              "    </tr>\n",
              "    <tr>\n",
              "      <th>19</th>\n",
              "      <td>RandomForest_glove300d</td>\n",
              "      <td>0.482806</td>\n",
              "      <td>0.482806</td>\n",
              "      <td>0.140454</td>\n",
              "      <td>0.138775</td>\n",
              "      <td>0.124503</td>\n",
              "      <td>0.372200</td>\n",
              "      <td>0.482806</td>\n",
              "      <td>0.390671</td>\n",
              "      <td>116.899824</td>\n",
              "    </tr>\n",
              "    <tr>\n",
              "      <th>20</th>\n",
              "      <td>LinearSVC_glove300d</td>\n",
              "      <td>0.555175</td>\n",
              "      <td>0.555175</td>\n",
              "      <td>0.307301</td>\n",
              "      <td>0.279014</td>\n",
              "      <td>0.279385</td>\n",
              "      <td>0.505137</td>\n",
              "      <td>0.555175</td>\n",
              "      <td>0.514641</td>\n",
              "      <td>508.521242</td>\n",
              "    </tr>\n",
              "  </tbody>\n",
              "</table>\n",
              "</div>"
            ],
            "text/plain": [
              "                           Model  Accuracy  Micro F1  Macro Precision  \\\n",
              "0                 MultinomialNB1  0.540120  0.540120         0.205778   \n",
              "1                    GaussianNB1  0.116681  0.116681         0.141528   \n",
              "2            LogisticRegression1  0.568178  0.568178         0.332463   \n",
              "3                  RandomForest1  0.445338  0.445338         0.121989   \n",
              "4                     LinearSVC1  0.554833  0.554833         0.318929   \n",
              "5            GaussianNB_glove50d  0.392814  0.392814         0.203111   \n",
              "6    LogisticRegression_glove50d  0.501454  0.501454         0.280851   \n",
              "7          RandomForest_glove50d  0.432164  0.432164         0.119473   \n",
              "8             LinearSVC_glove50d  0.495808  0.495808         0.235459   \n",
              "9           GaussianNB_glove100d  0.407528  0.407528         0.233434   \n",
              "10  LogisticRegression_glove100d  0.550214  0.550214         0.323551   \n",
              "11        RandomForest_glove100d  0.457314  0.457314         0.121513   \n",
              "12           LinearSVC_glove100d  0.552438  0.552438         0.338310   \n",
              "13          GaussianNB_glove200d  0.438494  0.438494         0.269655   \n",
              "14  LogisticRegression_glove200d  0.559624  0.559624         0.349456   \n",
              "15        RandomForest_glove200d  0.469119  0.469119         0.124108   \n",
              "16           LinearSVC_glove200d  0.556373  0.556373         0.317302   \n",
              "17          GaussianNB_glove300d  0.423952  0.423952         0.267595   \n",
              "18  LogisticRegression_glove300d  0.563216  0.563216         0.355575   \n",
              "19        RandomForest_glove300d  0.482806  0.482806         0.140454   \n",
              "20           LinearSVC_glove300d  0.555175  0.555175         0.307301   \n",
              "\n",
              "    Macro Recall  Macro F1score  Weighted Precision  Weighted Recall  \\\n",
              "0       0.183237       0.175208            0.458353         0.540120   \n",
              "1       0.158912       0.103220            0.310021         0.116681   \n",
              "2       0.243235       0.246435            0.507137         0.568178   \n",
              "3       0.110248       0.089828            0.348790         0.445338   \n",
              "4       0.274926       0.277788            0.504100         0.554833   \n",
              "5       0.244746       0.210257            0.397782         0.392814   \n",
              "6       0.209960       0.215189            0.459384         0.501454   \n",
              "7       0.120087       0.107409            0.317063         0.432164   \n",
              "8       0.193159       0.192205            0.429242         0.495808   \n",
              "9       0.283323       0.234904            0.451500         0.407528   \n",
              "10      0.261588       0.268414            0.499682         0.550214   \n",
              "11      0.130589       0.116406            0.329671         0.457314   \n",
              "12      0.267908       0.273771            0.503821         0.552438   \n",
              "13      0.321288       0.270937            0.493144         0.438494   \n",
              "14      0.282217       0.288903            0.511302         0.559624   \n",
              "15      0.135031       0.120671            0.339093         0.469119   \n",
              "16      0.277824       0.275487            0.510566         0.556373   \n",
              "17      0.321662       0.270538            0.483721         0.423952   \n",
              "18      0.285609       0.291020            0.515556         0.563216   \n",
              "19      0.138775       0.124503            0.372200         0.482806   \n",
              "20      0.279014       0.279385            0.505137         0.555175   \n",
              "\n",
              "    Weighted F1  Time taken  \n",
              "0      0.474655    1.742476  \n",
              "1      0.135088    9.085711  \n",
              "2      0.512977   77.167595  \n",
              "3      0.340372   21.212286  \n",
              "4      0.512817    7.235629  \n",
              "5      0.388281    1.059376  \n",
              "6      0.451284   26.226303  \n",
              "7      0.342962   55.327241  \n",
              "8      0.432596  147.024114  \n",
              "9      0.417535    1.431750  \n",
              "10     0.504889   39.701219  \n",
              "11     0.365411   76.902029  \n",
              "12     0.504627  214.637019  \n",
              "13     0.451923    4.214926  \n",
              "14     0.516330   57.037273  \n",
              "15     0.377625  107.355937  \n",
              "16     0.511425  453.989843  \n",
              "17     0.438690    5.351046  \n",
              "18     0.521305   52.767000  \n",
              "19     0.390671  116.899824  \n",
              "20     0.514641  508.521242  "
            ]
          },
          "metadata": {
            "tags": []
          },
          "execution_count": 91
        }
      ]
    },
    {
      "cell_type": "markdown",
      "metadata": {
        "id": "chWEtW6kok7k"
      },
      "source": [
        "##### Sorting in Descending order by Accuracy"
      ]
    },
    {
      "cell_type": "code",
      "metadata": {
        "id": "XWgphdgeok7l",
        "outputId": "64c12c9e-849c-4acc-a8db-cd16b56bffa8"
      },
      "source": [
        "# Sorting results to see which one gives us the best results\n",
        "results_compiled_sorted_by_accuracy = results_compiled.sort_values(by='Accuracy', ascending=False)\n",
        "\n",
        "with open('results_compiled_sorted_by_accuracy.pickle', 'wb') as to_write:\n",
        "    pickle.dump(results_compiled_sorted_by_accuracy, to_write)\n",
        "\n",
        "results_compiled_sorted_by_accuracy"
      ],
      "execution_count": null,
      "outputs": [
        {
          "output_type": "execute_result",
          "data": {
            "text/html": [
              "<div>\n",
              "<style scoped>\n",
              "    .dataframe tbody tr th:only-of-type {\n",
              "        vertical-align: middle;\n",
              "    }\n",
              "\n",
              "    .dataframe tbody tr th {\n",
              "        vertical-align: top;\n",
              "    }\n",
              "\n",
              "    .dataframe thead th {\n",
              "        text-align: right;\n",
              "    }\n",
              "</style>\n",
              "<table border=\"1\" class=\"dataframe\">\n",
              "  <thead>\n",
              "    <tr style=\"text-align: right;\">\n",
              "      <th></th>\n",
              "      <th>Model</th>\n",
              "      <th>Accuracy</th>\n",
              "      <th>Micro F1</th>\n",
              "      <th>Macro Precision</th>\n",
              "      <th>Macro Recall</th>\n",
              "      <th>Macro F1score</th>\n",
              "      <th>Weighted Precision</th>\n",
              "      <th>Weighted Recall</th>\n",
              "      <th>Weighted F1</th>\n",
              "      <th>Time taken</th>\n",
              "    </tr>\n",
              "  </thead>\n",
              "  <tbody>\n",
              "    <tr>\n",
              "      <th>2</th>\n",
              "      <td>LogisticRegression1</td>\n",
              "      <td>0.568178</td>\n",
              "      <td>0.568178</td>\n",
              "      <td>0.332463</td>\n",
              "      <td>0.243235</td>\n",
              "      <td>0.246435</td>\n",
              "      <td>0.507137</td>\n",
              "      <td>0.568178</td>\n",
              "      <td>0.512977</td>\n",
              "      <td>77.167595</td>\n",
              "    </tr>\n",
              "    <tr>\n",
              "      <th>18</th>\n",
              "      <td>LogisticRegression_glove300d</td>\n",
              "      <td>0.563216</td>\n",
              "      <td>0.563216</td>\n",
              "      <td>0.355575</td>\n",
              "      <td>0.285609</td>\n",
              "      <td>0.291020</td>\n",
              "      <td>0.515556</td>\n",
              "      <td>0.563216</td>\n",
              "      <td>0.521305</td>\n",
              "      <td>52.767000</td>\n",
              "    </tr>\n",
              "    <tr>\n",
              "      <th>14</th>\n",
              "      <td>LogisticRegression_glove200d</td>\n",
              "      <td>0.559624</td>\n",
              "      <td>0.559624</td>\n",
              "      <td>0.349456</td>\n",
              "      <td>0.282217</td>\n",
              "      <td>0.288903</td>\n",
              "      <td>0.511302</td>\n",
              "      <td>0.559624</td>\n",
              "      <td>0.516330</td>\n",
              "      <td>57.037273</td>\n",
              "    </tr>\n",
              "    <tr>\n",
              "      <th>16</th>\n",
              "      <td>LinearSVC_glove200d</td>\n",
              "      <td>0.556373</td>\n",
              "      <td>0.556373</td>\n",
              "      <td>0.317302</td>\n",
              "      <td>0.277824</td>\n",
              "      <td>0.275487</td>\n",
              "      <td>0.510566</td>\n",
              "      <td>0.556373</td>\n",
              "      <td>0.511425</td>\n",
              "      <td>453.989843</td>\n",
              "    </tr>\n",
              "    <tr>\n",
              "      <th>20</th>\n",
              "      <td>LinearSVC_glove300d</td>\n",
              "      <td>0.555175</td>\n",
              "      <td>0.555175</td>\n",
              "      <td>0.307301</td>\n",
              "      <td>0.279014</td>\n",
              "      <td>0.279385</td>\n",
              "      <td>0.505137</td>\n",
              "      <td>0.555175</td>\n",
              "      <td>0.514641</td>\n",
              "      <td>508.521242</td>\n",
              "    </tr>\n",
              "    <tr>\n",
              "      <th>4</th>\n",
              "      <td>LinearSVC1</td>\n",
              "      <td>0.554833</td>\n",
              "      <td>0.554833</td>\n",
              "      <td>0.318929</td>\n",
              "      <td>0.274926</td>\n",
              "      <td>0.277788</td>\n",
              "      <td>0.504100</td>\n",
              "      <td>0.554833</td>\n",
              "      <td>0.512817</td>\n",
              "      <td>7.235629</td>\n",
              "    </tr>\n",
              "    <tr>\n",
              "      <th>12</th>\n",
              "      <td>LinearSVC_glove100d</td>\n",
              "      <td>0.552438</td>\n",
              "      <td>0.552438</td>\n",
              "      <td>0.338310</td>\n",
              "      <td>0.267908</td>\n",
              "      <td>0.273771</td>\n",
              "      <td>0.503821</td>\n",
              "      <td>0.552438</td>\n",
              "      <td>0.504627</td>\n",
              "      <td>214.637019</td>\n",
              "    </tr>\n",
              "    <tr>\n",
              "      <th>10</th>\n",
              "      <td>LogisticRegression_glove100d</td>\n",
              "      <td>0.550214</td>\n",
              "      <td>0.550214</td>\n",
              "      <td>0.323551</td>\n",
              "      <td>0.261588</td>\n",
              "      <td>0.268414</td>\n",
              "      <td>0.499682</td>\n",
              "      <td>0.550214</td>\n",
              "      <td>0.504889</td>\n",
              "      <td>39.701219</td>\n",
              "    </tr>\n",
              "    <tr>\n",
              "      <th>0</th>\n",
              "      <td>MultinomialNB1</td>\n",
              "      <td>0.540120</td>\n",
              "      <td>0.540120</td>\n",
              "      <td>0.205778</td>\n",
              "      <td>0.183237</td>\n",
              "      <td>0.175208</td>\n",
              "      <td>0.458353</td>\n",
              "      <td>0.540120</td>\n",
              "      <td>0.474655</td>\n",
              "      <td>1.742476</td>\n",
              "    </tr>\n",
              "    <tr>\n",
              "      <th>6</th>\n",
              "      <td>LogisticRegression_glove50d</td>\n",
              "      <td>0.501454</td>\n",
              "      <td>0.501454</td>\n",
              "      <td>0.280851</td>\n",
              "      <td>0.209960</td>\n",
              "      <td>0.215189</td>\n",
              "      <td>0.459384</td>\n",
              "      <td>0.501454</td>\n",
              "      <td>0.451284</td>\n",
              "      <td>26.226303</td>\n",
              "    </tr>\n",
              "    <tr>\n",
              "      <th>8</th>\n",
              "      <td>LinearSVC_glove50d</td>\n",
              "      <td>0.495808</td>\n",
              "      <td>0.495808</td>\n",
              "      <td>0.235459</td>\n",
              "      <td>0.193159</td>\n",
              "      <td>0.192205</td>\n",
              "      <td>0.429242</td>\n",
              "      <td>0.495808</td>\n",
              "      <td>0.432596</td>\n",
              "      <td>147.024114</td>\n",
              "    </tr>\n",
              "    <tr>\n",
              "      <th>19</th>\n",
              "      <td>RandomForest_glove300d</td>\n",
              "      <td>0.482806</td>\n",
              "      <td>0.482806</td>\n",
              "      <td>0.140454</td>\n",
              "      <td>0.138775</td>\n",
              "      <td>0.124503</td>\n",
              "      <td>0.372200</td>\n",
              "      <td>0.482806</td>\n",
              "      <td>0.390671</td>\n",
              "      <td>116.899824</td>\n",
              "    </tr>\n",
              "    <tr>\n",
              "      <th>15</th>\n",
              "      <td>RandomForest_glove200d</td>\n",
              "      <td>0.469119</td>\n",
              "      <td>0.469119</td>\n",
              "      <td>0.124108</td>\n",
              "      <td>0.135031</td>\n",
              "      <td>0.120671</td>\n",
              "      <td>0.339093</td>\n",
              "      <td>0.469119</td>\n",
              "      <td>0.377625</td>\n",
              "      <td>107.355937</td>\n",
              "    </tr>\n",
              "    <tr>\n",
              "      <th>11</th>\n",
              "      <td>RandomForest_glove100d</td>\n",
              "      <td>0.457314</td>\n",
              "      <td>0.457314</td>\n",
              "      <td>0.121513</td>\n",
              "      <td>0.130589</td>\n",
              "      <td>0.116406</td>\n",
              "      <td>0.329671</td>\n",
              "      <td>0.457314</td>\n",
              "      <td>0.365411</td>\n",
              "      <td>76.902029</td>\n",
              "    </tr>\n",
              "    <tr>\n",
              "      <th>3</th>\n",
              "      <td>RandomForest1</td>\n",
              "      <td>0.445338</td>\n",
              "      <td>0.445338</td>\n",
              "      <td>0.121989</td>\n",
              "      <td>0.110248</td>\n",
              "      <td>0.089828</td>\n",
              "      <td>0.348790</td>\n",
              "      <td>0.445338</td>\n",
              "      <td>0.340372</td>\n",
              "      <td>21.212286</td>\n",
              "    </tr>\n",
              "    <tr>\n",
              "      <th>13</th>\n",
              "      <td>GaussianNB_glove200d</td>\n",
              "      <td>0.438494</td>\n",
              "      <td>0.438494</td>\n",
              "      <td>0.269655</td>\n",
              "      <td>0.321288</td>\n",
              "      <td>0.270937</td>\n",
              "      <td>0.493144</td>\n",
              "      <td>0.438494</td>\n",
              "      <td>0.451923</td>\n",
              "      <td>4.214926</td>\n",
              "    </tr>\n",
              "    <tr>\n",
              "      <th>7</th>\n",
              "      <td>RandomForest_glove50d</td>\n",
              "      <td>0.432164</td>\n",
              "      <td>0.432164</td>\n",
              "      <td>0.119473</td>\n",
              "      <td>0.120087</td>\n",
              "      <td>0.107409</td>\n",
              "      <td>0.317063</td>\n",
              "      <td>0.432164</td>\n",
              "      <td>0.342962</td>\n",
              "      <td>55.327241</td>\n",
              "    </tr>\n",
              "    <tr>\n",
              "      <th>17</th>\n",
              "      <td>GaussianNB_glove300d</td>\n",
              "      <td>0.423952</td>\n",
              "      <td>0.423952</td>\n",
              "      <td>0.267595</td>\n",
              "      <td>0.321662</td>\n",
              "      <td>0.270538</td>\n",
              "      <td>0.483721</td>\n",
              "      <td>0.423952</td>\n",
              "      <td>0.438690</td>\n",
              "      <td>5.351046</td>\n",
              "    </tr>\n",
              "    <tr>\n",
              "      <th>9</th>\n",
              "      <td>GaussianNB_glove100d</td>\n",
              "      <td>0.407528</td>\n",
              "      <td>0.407528</td>\n",
              "      <td>0.233434</td>\n",
              "      <td>0.283323</td>\n",
              "      <td>0.234904</td>\n",
              "      <td>0.451500</td>\n",
              "      <td>0.407528</td>\n",
              "      <td>0.417535</td>\n",
              "      <td>1.431750</td>\n",
              "    </tr>\n",
              "    <tr>\n",
              "      <th>5</th>\n",
              "      <td>GaussianNB_glove50d</td>\n",
              "      <td>0.392814</td>\n",
              "      <td>0.392814</td>\n",
              "      <td>0.203111</td>\n",
              "      <td>0.244746</td>\n",
              "      <td>0.210257</td>\n",
              "      <td>0.397782</td>\n",
              "      <td>0.392814</td>\n",
              "      <td>0.388281</td>\n",
              "      <td>1.059376</td>\n",
              "    </tr>\n",
              "    <tr>\n",
              "      <th>1</th>\n",
              "      <td>GaussianNB1</td>\n",
              "      <td>0.116681</td>\n",
              "      <td>0.116681</td>\n",
              "      <td>0.141528</td>\n",
              "      <td>0.158912</td>\n",
              "      <td>0.103220</td>\n",
              "      <td>0.310021</td>\n",
              "      <td>0.116681</td>\n",
              "      <td>0.135088</td>\n",
              "      <td>9.085711</td>\n",
              "    </tr>\n",
              "  </tbody>\n",
              "</table>\n",
              "</div>"
            ],
            "text/plain": [
              "                           Model  Accuracy  Micro F1  Macro Precision  \\\n",
              "2            LogisticRegression1  0.568178  0.568178         0.332463   \n",
              "18  LogisticRegression_glove300d  0.563216  0.563216         0.355575   \n",
              "14  LogisticRegression_glove200d  0.559624  0.559624         0.349456   \n",
              "16           LinearSVC_glove200d  0.556373  0.556373         0.317302   \n",
              "20           LinearSVC_glove300d  0.555175  0.555175         0.307301   \n",
              "4                     LinearSVC1  0.554833  0.554833         0.318929   \n",
              "12           LinearSVC_glove100d  0.552438  0.552438         0.338310   \n",
              "10  LogisticRegression_glove100d  0.550214  0.550214         0.323551   \n",
              "0                 MultinomialNB1  0.540120  0.540120         0.205778   \n",
              "6    LogisticRegression_glove50d  0.501454  0.501454         0.280851   \n",
              "8             LinearSVC_glove50d  0.495808  0.495808         0.235459   \n",
              "19        RandomForest_glove300d  0.482806  0.482806         0.140454   \n",
              "15        RandomForest_glove200d  0.469119  0.469119         0.124108   \n",
              "11        RandomForest_glove100d  0.457314  0.457314         0.121513   \n",
              "3                  RandomForest1  0.445338  0.445338         0.121989   \n",
              "13          GaussianNB_glove200d  0.438494  0.438494         0.269655   \n",
              "7          RandomForest_glove50d  0.432164  0.432164         0.119473   \n",
              "17          GaussianNB_glove300d  0.423952  0.423952         0.267595   \n",
              "9           GaussianNB_glove100d  0.407528  0.407528         0.233434   \n",
              "5            GaussianNB_glove50d  0.392814  0.392814         0.203111   \n",
              "1                    GaussianNB1  0.116681  0.116681         0.141528   \n",
              "\n",
              "    Macro Recall  Macro F1score  Weighted Precision  Weighted Recall  \\\n",
              "2       0.243235       0.246435            0.507137         0.568178   \n",
              "18      0.285609       0.291020            0.515556         0.563216   \n",
              "14      0.282217       0.288903            0.511302         0.559624   \n",
              "16      0.277824       0.275487            0.510566         0.556373   \n",
              "20      0.279014       0.279385            0.505137         0.555175   \n",
              "4       0.274926       0.277788            0.504100         0.554833   \n",
              "12      0.267908       0.273771            0.503821         0.552438   \n",
              "10      0.261588       0.268414            0.499682         0.550214   \n",
              "0       0.183237       0.175208            0.458353         0.540120   \n",
              "6       0.209960       0.215189            0.459384         0.501454   \n",
              "8       0.193159       0.192205            0.429242         0.495808   \n",
              "19      0.138775       0.124503            0.372200         0.482806   \n",
              "15      0.135031       0.120671            0.339093         0.469119   \n",
              "11      0.130589       0.116406            0.329671         0.457314   \n",
              "3       0.110248       0.089828            0.348790         0.445338   \n",
              "13      0.321288       0.270937            0.493144         0.438494   \n",
              "7       0.120087       0.107409            0.317063         0.432164   \n",
              "17      0.321662       0.270538            0.483721         0.423952   \n",
              "9       0.283323       0.234904            0.451500         0.407528   \n",
              "5       0.244746       0.210257            0.397782         0.392814   \n",
              "1       0.158912       0.103220            0.310021         0.116681   \n",
              "\n",
              "    Weighted F1  Time taken  \n",
              "2      0.512977   77.167595  \n",
              "18     0.521305   52.767000  \n",
              "14     0.516330   57.037273  \n",
              "16     0.511425  453.989843  \n",
              "20     0.514641  508.521242  \n",
              "4      0.512817    7.235629  \n",
              "12     0.504627  214.637019  \n",
              "10     0.504889   39.701219  \n",
              "0      0.474655    1.742476  \n",
              "6      0.451284   26.226303  \n",
              "8      0.432596  147.024114  \n",
              "19     0.390671  116.899824  \n",
              "15     0.377625  107.355937  \n",
              "11     0.365411   76.902029  \n",
              "3      0.340372   21.212286  \n",
              "13     0.451923    4.214926  \n",
              "7      0.342962   55.327241  \n",
              "17     0.438690    5.351046  \n",
              "9      0.417535    1.431750  \n",
              "5      0.388281    1.059376  \n",
              "1      0.135088    9.085711  "
            ]
          },
          "metadata": {
            "tags": []
          },
          "execution_count": 92
        }
      ]
    },
    {
      "cell_type": "code",
      "metadata": {
        "id": "PZRBZ_Srok7l",
        "outputId": "07799623-a4b3-43ed-f4ed-08d35e3edfdc"
      },
      "source": [
        "# Retrieving the Model that provides the highest Accuracy\n",
        "results_highest_accuracy = results_compiled[results_compiled.Accuracy == results_compiled.Accuracy.max()]\n",
        "\n",
        "with open('results_highest_accuracy.pickle', 'wb') as to_write:\n",
        "    pickle.dump(results_highest_accuracy, to_write)\n",
        "\n",
        "results_highest_accuracy"
      ],
      "execution_count": null,
      "outputs": [
        {
          "output_type": "execute_result",
          "data": {
            "text/html": [
              "<div>\n",
              "<style scoped>\n",
              "    .dataframe tbody tr th:only-of-type {\n",
              "        vertical-align: middle;\n",
              "    }\n",
              "\n",
              "    .dataframe tbody tr th {\n",
              "        vertical-align: top;\n",
              "    }\n",
              "\n",
              "    .dataframe thead th {\n",
              "        text-align: right;\n",
              "    }\n",
              "</style>\n",
              "<table border=\"1\" class=\"dataframe\">\n",
              "  <thead>\n",
              "    <tr style=\"text-align: right;\">\n",
              "      <th></th>\n",
              "      <th>Model</th>\n",
              "      <th>Accuracy</th>\n",
              "      <th>Micro F1</th>\n",
              "      <th>Macro Precision</th>\n",
              "      <th>Macro Recall</th>\n",
              "      <th>Macro F1score</th>\n",
              "      <th>Weighted Precision</th>\n",
              "      <th>Weighted Recall</th>\n",
              "      <th>Weighted F1</th>\n",
              "      <th>Time taken</th>\n",
              "    </tr>\n",
              "  </thead>\n",
              "  <tbody>\n",
              "    <tr>\n",
              "      <th>2</th>\n",
              "      <td>LogisticRegression1</td>\n",
              "      <td>0.568178</td>\n",
              "      <td>0.568178</td>\n",
              "      <td>0.332463</td>\n",
              "      <td>0.243235</td>\n",
              "      <td>0.246435</td>\n",
              "      <td>0.507137</td>\n",
              "      <td>0.568178</td>\n",
              "      <td>0.512977</td>\n",
              "      <td>77.167595</td>\n",
              "    </tr>\n",
              "  </tbody>\n",
              "</table>\n",
              "</div>"
            ],
            "text/plain": [
              "                 Model  Accuracy  Micro F1  Macro Precision  Macro Recall  \\\n",
              "2  LogisticRegression1  0.568178  0.568178         0.332463      0.243235   \n",
              "\n",
              "   Macro F1score  Weighted Precision  Weighted Recall  Weighted F1  Time taken  \n",
              "2       0.246435            0.507137         0.568178     0.512977   77.167595  "
            ]
          },
          "metadata": {
            "tags": []
          },
          "execution_count": 93
        }
      ]
    },
    {
      "cell_type": "markdown",
      "metadata": {
        "id": "2Wd8aiRrok7l"
      },
      "source": [
        "# Splitting to 80% Train and 20% unseen data"
      ]
    },
    {
      "cell_type": "code",
      "metadata": {
        "id": "iiIPJ-8wok7l",
        "colab": {
          "base_uri": "https://localhost:8080/"
        },
        "outputId": "472ba1be-db40-4d98-f5f8-87d35c137952"
      },
      "source": [
        "# Split the data into X and y data sets\n",
        "X, y = df_product_and_complaint.MAIN_DESCRIPTION, df_product_and_complaint.SERVICE_TYPE\n",
        "print('X shape:', X.shape, 'y shape:', y.shape)\n",
        "# For text classification, ALWAYS split data first before vectorizing.\n",
        "# This is because you don't want to cheat by having features (words) from the test data already being inside your train data\n",
        "from sklearn.model_selection import train_test_split\n",
        "\n",
        "X_train_val, X_test, y_train_val, y_test = train_test_split(X, y, \n",
        "                                                            test_size=0.2,   # 80% train/cv, 20% test\n",
        "                                                            stratify=y,\n",
        "                                                            random_state=seed)\n",
        "print('X_train', X_train_val.shape)\n",
        "print('y_train', y_train_val.shape)\n",
        "print('X_test', X_test.shape)\n",
        "print('y_test', y_test.shape)"
      ],
      "execution_count": 40,
      "outputs": [
        {
          "output_type": "stream",
          "text": [
            "X shape: (7307,) y shape: (7307,)\n",
            "X_train (5845,)\n",
            "y_train (5845,)\n",
            "X_test (1462,)\n",
            "y_test (1462,)\n"
          ],
          "name": "stdout"
        }
      ]
    },
    {
      "cell_type": "code",
      "metadata": {
        "id": "vIBA2TMLok7m"
      },
      "source": [
        "# tfidf1 = 1-gram only. \n",
        "tfidf1 = TfidfVectorizer(sublinear_tf=True, # set to true to scale the term frequency in logarithmic scale.\n",
        "                        min_df=5,\n",
        "                        stop_words='english')\n",
        "X_train_val_tfidf1 = tfidf1.fit_transform(X_train_val).toarray()\n",
        "X_test_tfidf1 = tfidf1.transform(X_test)"
      ],
      "execution_count": 41,
      "outputs": []
    },
    {
      "cell_type": "code",
      "metadata": {
        "id": "fL8SwJZSok7m",
        "colab": {
          "base_uri": "https://localhost:8080/"
        },
        "outputId": "1ce68d85-ea31-4c20-fec7-e71ad0ee5dec"
      },
      "source": [
        "# Initializing our chosen logreg model\n",
        "logit = LogisticRegression()\n",
        "\n",
        "# Fitting our model\n",
        "logit_finalized = logit.fit(X_train_val_tfidf1, y_train_val)\n",
        "\n",
        "# Obtaining prediction\n",
        "y_pred = logit_finalized.predict(X_test_tfidf1)"
      ],
      "execution_count": 42,
      "outputs": [
        {
          "output_type": "stream",
          "text": [
            "/usr/local/lib/python3.7/dist-packages/sklearn/linear_model/_logistic.py:940: ConvergenceWarning: lbfgs failed to converge (status=1):\n",
            "STOP: TOTAL NO. of ITERATIONS REACHED LIMIT.\n",
            "\n",
            "Increase the number of iterations (max_iter) or scale the data as shown in:\n",
            "    https://scikit-learn.org/stable/modules/preprocessing.html\n",
            "Please also refer to the documentation for alternative solver options:\n",
            "    https://scikit-learn.org/stable/modules/linear_model.html#logistic-regression\n",
            "  extra_warning_msg=_LOGISTIC_SOLVER_CONVERGENCE_MSG)\n"
          ],
          "name": "stderr"
        }
      ]
    },
    {
      "cell_type": "code",
      "metadata": {
        "id": "Y-axxyWpt-nU"
      },
      "source": [
        "X, y = df_product_and_complaint.MAIN_DESCRIPTION, df_product_and_complaint.SERVICE_TYPE\n",
        "X_train_val, X_test, y_train_val, y_test = train_test_split(X, y, test_size=0.2, stratify=y, random_state=seed)\n",
        "tfidf = TfidfVectorizer(sublinear_tf=True, min_df=5, stop_words='english')\n",
        "fitted_tfidf_to_use = tfidf.fit(X_train_val)"
      ],
      "execution_count": 46,
      "outputs": []
    },
    {
      "cell_type": "code",
      "metadata": {
        "id": "m_-42YDFu3Os"
      },
      "source": [
        "with open('fitted_tfidf_to_use.pickle', 'wb') as to_write:\n",
        "  pickle.dump(fitted_tfidf_to_use, to_write)"
      ],
      "execution_count": 48,
      "outputs": []
    },
    {
      "cell_type": "code",
      "metadata": {
        "id": "-KgU36yrok7n"
      },
      "source": [
        " # Pickle trained Model for use in Flask App\n",
        " with open('logit_finalized.pickle', 'wb') as to_write:\n",
        "     pickle.dump(logit_finalized, to_write)"
      ],
      "execution_count": 49,
      "outputs": []
    },
    {
      "cell_type": "code",
      "metadata": {
        "id": "-B1MVlEmok7n"
      },
      "source": [
        "# Now we have a pickled trained model, we can use this for our flask app!\n",
        "with open('logit_finalized.pickle', 'rb') as to_read:\n",
        "    logit_finalized = pickle.load(to_read)"
      ],
      "execution_count": 50,
      "outputs": []
    },
    {
      "cell_type": "code",
      "metadata": {
        "id": "-wpzeQ_0ok7o"
      },
      "source": [
        "# Create a function to calculate the error metrics, since we'll be doing this several times\n",
        "from sklearn.metrics import confusion_matrix\n",
        "import matplotlib.pyplot as plt\n",
        "import seaborn as sns\n",
        "%matplotlib inline\n",
        "\n",
        "def conf_matrix(actual, predicted):\n",
        "    \n",
        "    # Creates a dataframe of the PRODUCT to their respective PRODUCT_ID\n",
        "    category_id_df = df_product_and_complaint[['SERVICE_TYPE', 'S_ID']].drop_duplicates()\n",
        "\n",
        "    # Dictionaries for future use. Creating our cheatsheets for what each encoded label represents.\n",
        "    category_to_id = dict(category_id_df.values) # Creates a PRODUCT: PRODUCT_ID key-value pair\n",
        "    id_to_category = dict(category_id_df[['S_ID', 'SERVICE_TYPE']].values)  # Creates a PRODUCT_ID: PRODUCT key-value pair\n",
        "\n",
        "    conf_mat = confusion_matrix(y_test, y_pred)\n",
        "    fig, ax = plt.subplots(figsize=(8,8))\n",
        "    g= sns.heatmap(conf_mat, \n",
        "                   annot=True, annot_kws={\"size\":10},\n",
        "                   cmap=plt.cm.Reds, square=True,\n",
        "                   fmt='d',\n",
        "                   xticklabels=category_id_df.PRODUCT.values, \n",
        "                   yticklabels=category_id_df.PRODUCT.values)\n",
        "    \n",
        "#     # Changing the size of the xticks and ytick labels\n",
        "#     ax.set_yticklabels(g.get_yticklabels(), rotation=90, size=10);\n",
        "#     ax.set_xticklabels(g.get_xticklabels(), size=10);\n",
        "    \n",
        "    # Changing axis orientation & setting titles\n",
        "    ax.set_xlabel('Prediction', size=15)\n",
        "    ax.set_ylabel('Actual', rotation=0, labelpad=40,size=15)\n",
        "\n",
        "#     plt.title(\"CONFUSION MATRIX - {}\\n\".format(name), size=16);\n",
        "    \n",
        "    bottom, top = ax.get_ylim()\n",
        "    ax.set_ylim(bottom + 0.5, top - 0.5)"
      ],
      "execution_count": 51,
      "outputs": []
    },
    {
      "cell_type": "code",
      "metadata": {
        "id": "N6YEzX4Pok7o",
        "colab": {
          "base_uri": "https://localhost:8080/",
          "height": 519
        },
        "outputId": "8d09c2d2-1cb4-4f83-f361-45c6da205b0a"
      },
      "source": [
        "fig, ax = plt.subplots(figsize=(10,8))\n",
        "\n",
        "ax = sns.countplot(y='SERVICE_TYPE', \n",
        "                   data=df_product_and_complaint, \n",
        "                   order=df_product_and_complaint['SERVICE_TYPE'].value_counts().index,\n",
        "                   palette='rocket'        # change the color of this graph LATER\n",
        "                  )\n",
        "\n",
        "ax.set_title('NUMBER OF COMPLAINTS IN EACH CATEGORY',size=15)\n",
        "\n",
        "# Setting labels\n",
        "# Dealing with y-labels\n",
        "ax.set_ylabel('Service_Type', rotation=0, labelpad=40, size=14)\n",
        "              \n",
        "# Dealing with x-labels\n",
        "ax.set_xlabel('NUMBER OF COMPLAINTS', size=14)\n",
        "\n",
        "sns.despine()\n",
        "plt.savefig('freq_of_removed_classes.png', transparency=True)"
      ],
      "execution_count": 52,
      "outputs": [
        {
          "output_type": "display_data",
          "data": {
            "image/png": "[encoded data removed]",
            "text/plain": [
              "<Figure size 720x576 with 1 Axes>"
            ]
          },
          "metadata": {
            "tags": [],
            "needs_background": "light"
          }
        }
      ]
    },
    {
      "cell_type": "code",
      "metadata": {
        "id": "mJW9L6R9ok7o"
      },
      "source": [
        "\n",
        "# These are the ONLY packages we need to use from this point forward!\n",
        "import pandas as pd\n",
        "import numpy as np\n",
        "import pickle\n",
        "from sklearn.feature_extraction.text import TfidfVectorizer\n",
        "import sklearn.linear_model as lm"
      ],
      "execution_count": 53,
      "outputs": []
    },
    {
      "cell_type": "code",
      "metadata": {
        "id": "yQzAo2rsok7p"
      },
      "source": [
        "# Loading our saved models\n",
        "# Consider training on the whole data instead now?\n",
        "with open('fitted_tfidf_to_use.pickle', 'rb') as to_read:  # loading the fitted tfidf with our 80% trained data\n",
        "    fitted_tfidf_to_use = pickle.load(to_read)\n",
        "    \n",
        "with open('logit_finalized.pickle', 'rb') as to_read:  # loading our model\n",
        "    logit_finalized = pickle.load(to_read)"
      ],
      "execution_count": 54,
      "outputs": []
    },
    {
      "cell_type": "code",
      "metadata": {
        "id": "qaiskz3dok7p",
        "colab": {
          "base_uri": "https://localhost:8080/",
          "height": 36
        },
        "outputId": "ee5aae89-ba0b-42e1-e6d0-68bcea6e6e9f"
      },
      "source": [
        "# Using our models\n",
        "\n",
        "complaint = \"\"\"\n",
        "bird stuck in wire \"\"\"\n",
        "\n",
        "# After fitting the tfidf vectorizor, then you can do transforms!\n",
        "new_vectorized_complaint = fitted_tfidf_to_use.transform([complaint])\n",
        "\n",
        "# Fitting vectorized complaint into model\n",
        "y_customized_prediction = logit_finalized.predict(new_vectorized_complaint)\n",
        "y_customized_prediction[0]"
      ],
      "execution_count": 65,
      "outputs": [
        {
          "output_type": "execute_result",
          "data": {
            "application/vnd.google.colaboratory.intrinsic+json": {
              "type": "string"
            },
            "text/plain": [
              "'Animal rescue from height - Bird'"
            ]
          },
          "metadata": {
            "tags": []
          },
          "execution_count": 65
        }
      ]
    },
    {
      "cell_type": "code",
      "metadata": {
        "id": "omAVTVjkok7p"
      },
      "source": [
        ""
      ],
      "execution_count": null,
      "outputs": []
    }
  ]
}